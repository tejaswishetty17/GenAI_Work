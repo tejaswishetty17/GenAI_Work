{
  "nbformat": 4,
  "nbformat_minor": 0,
  "metadata": {
    "colab": {
      "provenance": [],
      "authorship_tag": "ABX9TyMbPwphYxm0bxF2Fl5+GXQc",
      "include_colab_link": true
    },
    "kernelspec": {
      "name": "python3",
      "display_name": "Python 3"
    },
    "language_info": {
      "name": "python"
    }
  },
  "cells": [
    {
      "cell_type": "markdown",
      "metadata": {
        "id": "view-in-github",
        "colab_type": "text"
      },
      "source": [
        "<a href=\"https://colab.research.google.com/github/tejaswishetty17/GenAI_Work/blob/main/Document_Loaders.ipynb\" target=\"_parent\"><img src=\"https://colab.research.google.com/assets/colab-badge.svg\" alt=\"Open In Colab\"/></a>"
      ]
    },
    {
      "cell_type": "code",
      "execution_count": 1,
      "metadata": {
        "colab": {
          "base_uri": "https://localhost:8080/"
        },
        "id": "YiqPQ2Lv-kQP",
        "outputId": "e4a65c91-70c2-4c89-908f-db23cf431ab2"
      },
      "outputs": [
        {
          "output_type": "stream",
          "name": "stdout",
          "text": [
            "\u001b[?25l     \u001b[90m━━━━━━━━━━━━━━━━━━━━━━━━━━━━━━━━━━━━━━━━\u001b[0m \u001b[32m0.0/67.3 kB\u001b[0m \u001b[31m?\u001b[0m eta \u001b[36m-:--:--\u001b[0m\r\u001b[2K     \u001b[90m━━━━━━━━━━━━━━━━━━━━━━━━━━━━━━━━━━━━━━━━\u001b[0m \u001b[32m67.3/67.3 kB\u001b[0m \u001b[31m3.3 MB/s\u001b[0m eta \u001b[36m0:00:00\u001b[0m\n",
            "\u001b[?25h  Installing build dependencies ... \u001b[?25l\u001b[?25hdone\n",
            "  Getting requirements to build wheel ... \u001b[?25l\u001b[?25hdone\n",
            "  Preparing metadata (pyproject.toml) ... \u001b[?25l\u001b[?25hdone\n",
            "\u001b[2K   \u001b[90m━━━━━━━━━━━━━━━━━━━━━━━━━━━━━━━━━━━━━━━━\u001b[0m \u001b[32m62.8/62.8 kB\u001b[0m \u001b[31m2.4 MB/s\u001b[0m eta \u001b[36m0:00:00\u001b[0m\n",
            "\u001b[2K   \u001b[90m━━━━━━━━━━━━━━━━━━━━━━━━━━━━━━━━━━━━━━━━\u001b[0m \u001b[32m2.5/2.5 MB\u001b[0m \u001b[31m31.9 MB/s\u001b[0m eta \u001b[36m0:00:00\u001b[0m\n",
            "\u001b[2K   \u001b[90m━━━━━━━━━━━━━━━━━━━━━━━━━━━━━━━━━━━━━━━━\u001b[0m \u001b[32m18.9/18.9 MB\u001b[0m \u001b[31m61.6 MB/s\u001b[0m eta \u001b[36m0:00:00\u001b[0m\n",
            "\u001b[2K   \u001b[90m━━━━━━━━━━━━━━━━━━━━━━━━━━━━━━━━━━━━━━━━\u001b[0m \u001b[32m94.9/94.9 kB\u001b[0m \u001b[31m5.8 MB/s\u001b[0m eta \u001b[36m0:00:00\u001b[0m\n",
            "\u001b[2K   \u001b[90m━━━━━━━━━━━━━━━━━━━━━━━━━━━━━━━━━━━━━━━━\u001b[0m \u001b[32m284.2/284.2 kB\u001b[0m \u001b[31m17.5 MB/s\u001b[0m eta \u001b[36m0:00:00\u001b[0m\n",
            "\u001b[2K   \u001b[90m━━━━━━━━━━━━━━━━━━━━━━━━━━━━━━━━━━━━━━━━\u001b[0m \u001b[32m2.0/2.0 MB\u001b[0m \u001b[31m43.8 MB/s\u001b[0m eta \u001b[36m0:00:00\u001b[0m\n",
            "\u001b[2K   \u001b[90m━━━━━━━━━━━━━━━━━━━━━━━━━━━━━━━━━━━━━━━━\u001b[0m \u001b[32m437.7/437.7 kB\u001b[0m \u001b[31m26.7 MB/s\u001b[0m eta \u001b[36m0:00:00\u001b[0m\n",
            "\u001b[2K   \u001b[90m━━━━━━━━━━━━━━━━━━━━━━━━━━━━━━━━━━━━━━━━\u001b[0m \u001b[32m101.6/101.6 kB\u001b[0m \u001b[31m7.1 MB/s\u001b[0m eta \u001b[36m0:00:00\u001b[0m\n",
            "\u001b[2K   \u001b[90m━━━━━━━━━━━━━━━━━━━━━━━━━━━━━━━━━━━━━━━━\u001b[0m \u001b[32m16.4/16.4 MB\u001b[0m \u001b[31m91.4 MB/s\u001b[0m eta \u001b[36m0:00:00\u001b[0m\n",
            "\u001b[2K   \u001b[90m━━━━━━━━━━━━━━━━━━━━━━━━━━━━━━━━━━━━━━━━\u001b[0m \u001b[32m55.9/55.9 kB\u001b[0m \u001b[31m4.0 MB/s\u001b[0m eta \u001b[36m0:00:00\u001b[0m\n",
            "\u001b[2K   \u001b[90m━━━━━━━━━━━━━━━━━━━━━━━━━━━━━━━━━━━━━━━━\u001b[0m \u001b[32m194.9/194.9 kB\u001b[0m \u001b[31m14.7 MB/s\u001b[0m eta \u001b[36m0:00:00\u001b[0m\n",
            "\u001b[2K   \u001b[90m━━━━━━━━━━━━━━━━━━━━━━━━━━━━━━━━━━━━━━━━\u001b[0m \u001b[32m65.8/65.8 kB\u001b[0m \u001b[31m4.6 MB/s\u001b[0m eta \u001b[36m0:00:00\u001b[0m\n",
            "\u001b[2K   \u001b[90m━━━━━━━━━━━━━━━━━━━━━━━━━━━━━━━━━━━━━━━━\u001b[0m \u001b[32m118.9/118.9 kB\u001b[0m \u001b[31m7.1 MB/s\u001b[0m eta \u001b[36m0:00:00\u001b[0m\n",
            "\u001b[2K   \u001b[90m━━━━━━━━━━━━━━━━━━━━━━━━━━━━━━━━━━━━━━━━\u001b[0m \u001b[32m92.0/92.0 kB\u001b[0m \u001b[31m6.6 MB/s\u001b[0m eta \u001b[36m0:00:00\u001b[0m\n",
            "\u001b[2K   \u001b[90m━━━━━━━━━━━━━━━━━━━━━━━━━━━━━━━━━━━━━━━━\u001b[0m \u001b[32m44.4/44.4 kB\u001b[0m \u001b[31m2.9 MB/s\u001b[0m eta \u001b[36m0:00:00\u001b[0m\n",
            "\u001b[2K   \u001b[90m━━━━━━━━━━━━━━━━━━━━━━━━━━━━━━━━━━━━━━━━\u001b[0m \u001b[32m1.2/1.2 MB\u001b[0m \u001b[31m51.1 MB/s\u001b[0m eta \u001b[36m0:00:00\u001b[0m\n",
            "\u001b[2K   \u001b[90m━━━━━━━━━━━━━━━━━━━━━━━━━━━━━━━━━━━━━━━━\u001b[0m \u001b[32m62.5/62.5 kB\u001b[0m \u001b[31m4.1 MB/s\u001b[0m eta \u001b[36m0:00:00\u001b[0m\n",
            "\u001b[2K   \u001b[90m━━━━━━━━━━━━━━━━━━━━━━━━━━━━━━━━━━━━━━━━\u001b[0m \u001b[32m459.8/459.8 kB\u001b[0m \u001b[31m29.2 MB/s\u001b[0m eta \u001b[36m0:00:00\u001b[0m\n",
            "\u001b[2K   \u001b[90m━━━━━━━━━━━━━━━━━━━━━━━━━━━━━━━━━━━━━━━━\u001b[0m \u001b[32m50.9/50.9 kB\u001b[0m \u001b[31m3.3 MB/s\u001b[0m eta \u001b[36m0:00:00\u001b[0m\n",
            "\u001b[2K   \u001b[90m━━━━━━━━━━━━━━━━━━━━━━━━━━━━━━━━━━━━━━━━\u001b[0m \u001b[32m71.5/71.5 kB\u001b[0m \u001b[31m4.1 MB/s\u001b[0m eta \u001b[36m0:00:00\u001b[0m\n",
            "\u001b[2K   \u001b[90m━━━━━━━━━━━━━━━━━━━━━━━━━━━━━━━━━━━━━━━━\u001b[0m \u001b[32m4.0/4.0 MB\u001b[0m \u001b[31m91.1 MB/s\u001b[0m eta \u001b[36m0:00:00\u001b[0m\n",
            "\u001b[2K   \u001b[90m━━━━━━━━━━━━━━━━━━━━━━━━━━━━━━━━━━━━━━━━\u001b[0m \u001b[32m454.8/454.8 kB\u001b[0m \u001b[31m25.0 MB/s\u001b[0m eta \u001b[36m0:00:00\u001b[0m\n",
            "\u001b[2K   \u001b[90m━━━━━━━━━━━━━━━━━━━━━━━━━━━━━━━━━━━━━━━━\u001b[0m \u001b[32m46.0/46.0 kB\u001b[0m \u001b[31m2.4 MB/s\u001b[0m eta \u001b[36m0:00:00\u001b[0m\n",
            "\u001b[2K   \u001b[90m━━━━━━━━━━━━━━━━━━━━━━━━━━━━━━━━━━━━━━━━\u001b[0m \u001b[32m86.8/86.8 kB\u001b[0m \u001b[31m5.2 MB/s\u001b[0m eta \u001b[36m0:00:00\u001b[0m\n",
            "\u001b[?25h  Building wheel for pypika (pyproject.toml) ... \u001b[?25l\u001b[?25hdone\n"
          ]
        }
      ],
      "source": [
        "pip install -q langchain langchain-openai langchain-community chromadb"
      ]
    },
    {
      "cell_type": "code",
      "source": [
        "from langchain_community.document_loaders import TextLoader, CSVLoader, PyPDFLoader, DirectoryLoader, WebBaseLoader\n",
        "from langchain.text_splitter import RecursiveCharacterTextSplitter\n",
        "from langchain_openai import OpenAIEmbeddings, ChatOpenAI\n",
        "from langchain_community.vectorstores import Chroma\n",
        "from langchain_core.prompts import ChatPromptTemplate\n",
        "from langchain_core.runnables import RunnablePassthrough, RunnableLambda\n",
        "from langchain_core.output_parsers import StrOutputParser"
      ],
      "metadata": {
        "id": "2T3hk062_Qxe"
      },
      "execution_count": 15,
      "outputs": []
    },
    {
      "cell_type": "code",
      "source": [
        "import os"
      ],
      "metadata": {
        "id": "n-xdMxWFAEdf"
      },
      "execution_count": 4,
      "outputs": []
    },
    {
      "cell_type": "code",
      "source": [
        "text_loader = TextLoader(\"/content/sample_data/langchain_doc.txt\")\n",
        "text_docs = text_loader.load()\n",
        "print(text_docs, \"\\n\", len(text_docs))"
      ],
      "metadata": {
        "colab": {
          "base_uri": "https://localhost:8080/"
        },
        "id": "JkirO0vrAULU",
        "outputId": "e5e2a767-c894-4ddd-dbe1-e8001103dcea"
      },
      "execution_count": 7,
      "outputs": [
        {
          "output_type": "stream",
          "name": "stdout",
          "text": [
            "[Document(metadata={'source': '/content/sample_data/langchain_doc.txt'}, page_content='LangChain Introduction and Core Philosophy:\\nLangChain offers features and tools that make it easier to work with this concept. In particular, the use of modular abstractions, prebuilt utilities, and community-backed best practices ensures that developers can implement solutions around langchain introduction and core philosophy efficiently. Whether integrating third-party APIs, working with documents, or building agents, LangChain provides end-to-end support for langchain introduction and core philosophy.\\n\\nHow LangChain Integrates with Large Language Models:\\nLangChain offers features and tools that make it easier to work with this concept. In particular, the use of modular abstractions, prebuilt utilities, and community-backed best practices ensures that developers can implement solutions around how langchain integrates with large language models efficiently. Whether integrating third-party APIs, working with documents, or building agents, LangChain provides end-to-end support for how langchain integrates with large language models.\\n\\nRetrieval-Augmented Generation (RAG) Workflows Explained:\\nLangChain offers features and tools that make it easier to work with this concept. In particular, the use of modular abstractions, prebuilt utilities, and community-backed best practices ensures that developers can implement solutions around retrieval-augmented generation (rag) workflows explained efficiently. Whether integrating third-party APIs, working with documents, or building agents, LangChain provides end-to-end support for retrieval-augmented generation (rag) workflows explained.\\n\\nDocument Loading and Supported File Formats:\\nLangChain offers features and tools that make it easier to work with this concept. In particular, the use of modular abstractions, prebuilt utilities, and community-backed best practices ensures that developers can implement solutions around document loading and supported file formats efficiently. Whether integrating third-party APIs, working with documents, or building agents, LangChain provides end-to-end support for document loading and supported file formats.\\n\\nText Chunking and RecursiveCharacterTextSplitter:\\nLangChain offers features and tools that make it easier to work with this concept. In particular, the use of modular abstractions, prebuilt utilities, and community-backed best practices ensures that developers can implement solutions around text chunking and recursivecharactertextsplitter efficiently. Whether integrating third-party APIs, working with documents, or building agents, LangChain provides end-to-end support for text chunking and recursivecharactertextsplitter.\\n\\nEmbedding Models: OpenAI, HuggingFace, and Cohere:\\nLangChain offers features and tools that make it easier to work with this concept. In particular, the use of modular abstractions, prebuilt utilities, and community-backed best practices ensures that developers can implement solutions around embedding models: openai, huggingface, and cohere efficiently. Whether integrating third-party APIs, working with documents, or building agents, LangChain provides end-to-end support for embedding models: openai, huggingface, and cohere.\\n\\nVector Stores: FAISS, Chroma, Pinecone, and Weaviate:\\nLangChain offers features and tools that make it easier to work with this concept. In particular, the use of modular abstractions, prebuilt utilities, and community-backed best practices ensures that developers can implement solutions around vector stores: faiss, chroma, pinecone, and weaviate efficiently. Whether integrating third-party APIs, working with documents, or building agents, LangChain provides end-to-end support for vector stores: faiss, chroma, pinecone, and weaviate.\\n\\nCreating and Using Retrievers:\\nLangChain offers features and tools that make it easier to work with this concept. In particular, the use of modular abstractions, prebuilt utilities, and community-backed best practices ensures that developers can implement solutions around creating and using retrievers efficiently. Whether integrating third-party APIs, working with documents, or building agents, LangChain provides end-to-end support for creating and using retrievers.\\n\\nPrompt Engineering with LangChain:\\nLangChain offers features and tools that make it easier to work with this concept. In particular, the use of modular abstractions, prebuilt utilities, and community-backed best practices ensures that developers can implement solutions around prompt engineering with langchain efficiently. Whether integrating third-party APIs, working with documents, or building agents, LangChain provides end-to-end support for prompt engineering with langchain.\\n\\nCombining Components using LangChain Expression Language (LCEL):\\nLangChain offers features and tools that make it easier to work with this concept. In particular, the use of modular abstractions, prebuilt utilities, and community-backed best practices ensures that developers can implement solutions around combining components using langchain expression language (lcel) efficiently. Whether integrating third-party APIs, working with documents, or building agents, LangChain provides end-to-end support for combining components using langchain expression language (lcel).\\n\\nAgents and Tools in LangChain:\\nLangChain offers features and tools that make it easier to work with this concept. In particular, the use of modular abstractions, prebuilt utilities, and community-backed best practices ensures that developers can implement solutions around agents and tools in langchain efficiently. Whether integrating third-party APIs, working with documents, or building agents, LangChain provides end-to-end support for agents and tools in langchain.\\n\\nLangChain Memory for Stateful Conversations:\\nLangChain offers features and tools that make it easier to work with this concept. In particular, the use of modular abstractions, prebuilt utilities, and community-backed best practices ensures that developers can implement solutions around langchain memory for stateful conversations efficiently. Whether integrating third-party APIs, working with documents, or building agents, LangChain provides end-to-end support for langchain memory for stateful conversations.\\n\\nStreaming and Callback Support:\\nLangChain offers features and tools that make it easier to work with this concept. In particular, the use of modular abstractions, prebuilt utilities, and community-backed best practices ensures that developers can implement solutions around streaming and callback support efficiently. Whether integrating third-party APIs, working with documents, or building agents, LangChain provides end-to-end support for streaming and callback support.\\n\\nIntegration with OpenAI and Other LLM Providers:\\nLangChain offers features and tools that make it easier to work with this concept. In particular, the use of modular abstractions, prebuilt utilities, and community-backed best practices ensures that developers can implement solutions around integration with openai and other llm providers efficiently. Whether integrating third-party APIs, working with documents, or building agents, LangChain provides end-to-end support for integration with openai and other llm providers.\\n\\nLangChain Evaluation Modules:\\nLangChain offers features and tools that make it easier to work with this concept. In particular, the use of modular abstractions, prebuilt utilities, and community-backed best practices ensures that developers can implement solutions around langchain evaluation modules efficiently. Whether integrating third-party APIs, working with documents, or building agents, LangChain provides end-to-end support for langchain evaluation modules.\\n\\nDeploying LangChain Apps on the Cloud:\\nLangChain offers features and tools that make it easier to work with this concept. In particular, the use of modular abstractions, prebuilt utilities, and community-backed best practices ensures that developers can implement solutions around deploying langchain apps on the cloud efficiently. Whether integrating third-party APIs, working with documents, or building agents, LangChain provides end-to-end support for deploying langchain apps on the cloud.\\n\\nBuilding Chatbots with LangChain:\\nLangChain offers features and tools that make it easier to work with this concept. In particular, the use of modular abstractions, prebuilt utilities, and community-backed best practices ensures that developers can implement solutions around building chatbots with langchain efficiently. Whether integrating third-party APIs, working with documents, or building agents, LangChain provides end-to-end support for building chatbots with langchain.\\n\\nUsing LangChain with PDFs and Markdown:\\nLangChain offers features and tools that make it easier to work with this concept. In particular, the use of modular abstractions, prebuilt utilities, and community-backed best practices ensures that developers can implement solutions around using langchain with pdfs and markdown efficiently. Whether integrating third-party APIs, working with documents, or building agents, LangChain provides end-to-end support for using langchain with pdfs and markdown.\\n\\nCreating APIs with LangChain and FastAPI:\\nLangChain offers features and tools that make it easier to work with this concept. In particular, the use of modular abstractions, prebuilt utilities, and community-backed best practices ensures that developers can implement solutions around creating apis with langchain and fastapi efficiently. Whether integrating third-party APIs, working with documents, or building agents, LangChain provides end-to-end support for creating apis with langchain and fastapi.\\n\\nMulti-modal Applications using LangChain:\\nLangChain offers features and tools that make it easier to work with this concept. In particular, the use of modular abstractions, prebuilt utilities, and community-backed best practices ensures that developers can implement solutions around multi-modal applications using langchain efficiently. Whether integrating third-party APIs, working with documents, or building agents, LangChain provides end-to-end support for multi-modal applications using langchain.\\n\\nLangChain for Data Extraction and Transformation:\\nLangChain offers features and tools that make it easier to work with this concept. In particular, the use of modular abstractions, prebuilt utilities, and community-backed best practices ensures that developers can implement solutions around langchain for data extraction and transformation efficiently. Whether integrating third-party APIs, working with documents, or building agents, LangChain provides end-to-end support for langchain for data extraction and transformation.\\n\\nAdvanced Use Cases: Coding Assistants and Research Bots:\\nLangChain offers features and tools that make it easier to work with this concept. In particular, the use of modular abstractions, prebuilt utilities, and community-backed best practices ensures that developers can implement solutions around advanced use cases: coding assistants and research bots efficiently. Whether integrating third-party APIs, working with documents, or building agents, LangChain provides end-to-end support for advanced use cases: coding assistants and research bots.\\n\\nHandling Long Documents in LangChain:\\nLangChain offers features and tools that make it easier to work with this concept. In particular, the use of modular abstractions, prebuilt utilities, and community-backed best practices ensures that developers can implement solutions around handling long documents in langchain efficiently. Whether integrating third-party APIs, working with documents, or building agents, LangChain provides end-to-end support for handling long documents in langchain.\\n\\nCaching and Performance Optimization:\\nLangChain offers features and tools that make it easier to work with this concept. In particular, the use of modular abstractions, prebuilt utilities, and community-backed best practices ensures that developers can implement solutions around caching and performance optimization efficiently. Whether integrating third-party APIs, working with documents, or building agents, LangChain provides end-to-end support for caching and performance optimization.\\n\\nSecurity and Access Control in LangChain Apps:\\nLangChain offers features and tools that make it easier to work with this concept. In particular, the use of modular abstractions, prebuilt utilities, and community-backed best practices ensures that developers can implement solutions around security and access control in langchain apps efficiently. Whether integrating third-party APIs, working with documents, or building agents, LangChain provides end-to-end support for security and access control in langchain apps.\\n\\nLangSmith and Observability:\\nLangChain offers features and tools that make it easier to work with this concept. In particular, the use of modular abstractions, prebuilt utilities, and community-backed best practices ensures that developers can implement solutions around langsmith and observability efficiently. Whether integrating third-party APIs, working with documents, or building agents, LangChain provides end-to-end support for langsmith and observability.')] \n",
            " 1\n"
          ]
        }
      ]
    },
    {
      "cell_type": "code",
      "source": [
        "csv_loader = CSVLoader(\"/content/sample_data/file1.csv\", csv_args={\"delimiter\":\",\"})\n",
        "csv_docs = csv_loader.load()\n",
        "print(csv_docs, \"\\n\", len(csv_docs))"
      ],
      "metadata": {
        "colab": {
          "base_uri": "https://localhost:8080/"
        },
        "id": "YOLmk1muArMN",
        "outputId": "aa1fd92a-9e6a-4d00-894d-9ba0ba1170b5"
      },
      "execution_count": 11,
      "outputs": [
        {
          "output_type": "stream",
          "name": "stdout",
          "text": [
            "[Document(metadata={'source': '/content/sample_data/file1.csv', 'row': 0}, page_content='name: LangChain\\ndescription: A framework for developing LLM-powered applications.'), Document(metadata={'source': '/content/sample_data/file1.csv', 'row': 1}, page_content='name: OpenAI\\ndescription: An AI research company developing advanced language models.'), Document(metadata={'source': '/content/sample_data/file1.csv', 'row': 2}, page_content='name: Chroma\\ndescription: An open-source vector store for embeddings and similarity search.')] \n",
            " 3\n"
          ]
        }
      ]
    },
    {
      "cell_type": "code",
      "source": [
        "!pip install -q pypdf"
      ],
      "metadata": {
        "colab": {
          "base_uri": "https://localhost:8080/"
        },
        "id": "jaE4uB4eB9Mz",
        "outputId": "40323fdc-10f0-4a86-cf69-b753293019ee"
      },
      "execution_count": 17,
      "outputs": [
        {
          "output_type": "stream",
          "name": "stdout",
          "text": [
            "\u001b[?25l   \u001b[90m━━━━━━━━━━━━━━━━━━━━━━━━━━━━━━━━━━━━━━━━\u001b[0m \u001b[32m0.0/303.4 kB\u001b[0m \u001b[31m?\u001b[0m eta \u001b[36m-:--:--\u001b[0m\r\u001b[2K   \u001b[91m━━━━━━━━━━━━━━━━━━━━━━━━━━━━━━━━━━━━━━━\u001b[0m\u001b[90m╺\u001b[0m \u001b[32m297.0/303.4 kB\u001b[0m \u001b[31m8.3 MB/s\u001b[0m eta \u001b[36m0:00:01\u001b[0m\r\u001b[2K   \u001b[90m━━━━━━━━━━━━━━━━━━━━━━━━━━━━━━━━━━━━━━━━\u001b[0m \u001b[32m303.4/303.4 kB\u001b[0m \u001b[31m5.2 MB/s\u001b[0m eta \u001b[36m0:00:00\u001b[0m\n",
            "\u001b[?25h"
          ]
        }
      ]
    },
    {
      "cell_type": "code",
      "source": [
        "pdf_loader = PyPDFLoader(\"/content/sample_data/langchain_doc.pdf\")\n",
        "pdf_docs = pdf_loader.load()\n",
        "print(pdf_docs, \"\\n\", len(pdf_docs))"
      ],
      "metadata": {
        "colab": {
          "base_uri": "https://localhost:8080/"
        },
        "id": "WVCIubTKBO0j",
        "outputId": "e45d11e9-bcdd-4e66-f624-7b5bf9ea5d65"
      },
      "execution_count": 18,
      "outputs": [
        {
          "output_type": "stream",
          "name": "stdout",
          "text": [
            "[Document(metadata={'producer': 'pdfmake', 'creator': 'pdfmake', 'creationdate': '2025-04-10T15:03:35+00:00', 'source': '/content/sample_data/langchain_doc.pdf', 'total_pages': 6, 'page': 0, 'page_label': '1'}, page_content='LangChain Introduction and Core Philosophy:\\nLangChain offers features and tools that make it easier to work with this concept. In particular, the use of modular abstractions, prebuilt \\nutilities, and community-backed best practices ensures that developers can implement solutions around langchain introduction and core \\nphilosophy efficiently. Whether integrating third-party APIs, working with documents, or building agents, LangChain provides end-to-end support \\nfor langchain introduction and core philosophy.\\n \\nHow LangChain Integrates with Large Language Models:\\nLangChain offers features and tools that make it easier to work with this concept. In particular, the use of modular abstractions, prebuilt \\nutilities, and community-backed best practices ensures that developers can implement solutions around how langchain integrates with large \\nlanguage models efficiently. Whether integrating third-party APIs, working with documents, or building agents, LangChain provides end-to-end \\nsupport for how langchain integrates with large language models.\\n \\nRetrieval-Augmented Generation (RAG) Workflows Explained:\\nLangChain offers features and tools that make it easier to work with this concept. In particular, the use of modular abstractions, prebuilt \\nutilities, and community-backed best practices ensures that developers can implement solutions around retrieval-augmented generation (rag) \\nworkflows explained efficiently. Whether integrating third-party APIs, working with documents, or building agents, LangChain provides end-to-\\nend support for retrieval-augmented generation (rag) workflows explained.\\n \\nDocument Loading and Supported File Formats:\\nLangChain offers features and tools that make it easier to work with this concept. In particular, the use of modular abstractions, prebuilt \\nutilities, and community-backed best practices ensures that developers can implement solutions around document loading and supported file \\nformats efficiently. Whether integrating third-party APIs, working with documents, or building agents, LangChain provides end-to-end support for \\ndocument loading and supported file formats.\\n \\nText Chunking and RecursiveCharacterTextSplitter:\\nLangChain offers features and tools that make it easier to work with this concept. In particular, the use of modular abstractions, prebuilt \\nutilities, and community-backed best practices ensures that developers can implement solutions around text chunking and \\nrecursivecharactertextsplitter efficiently. Whether integrating third-party APIs, working with documents, or building agents, LangChain provides \\nend-to-end support for text chunking and recursivecharactertextsplitter.'), Document(metadata={'producer': 'pdfmake', 'creator': 'pdfmake', 'creationdate': '2025-04-10T15:03:35+00:00', 'source': '/content/sample_data/langchain_doc.pdf', 'total_pages': 6, 'page': 1, 'page_label': '2'}, page_content='Embedding Models: OpenAI, HuggingFace, and Cohere:\\nLangChain offers features and tools that make it easier to work with this concept. In particular, the use of modular abstractions, prebuilt \\nutilities, and community-backed best practices ensures that developers can implement solutions around embedding models: openai, \\nhuggingface, and cohere efficiently. Whether integrating third-party APIs, working with documents, or building agents, LangChain provides end-\\nto-end support for embedding models: openai, huggingface, and cohere.\\n \\nVector Stores: FAISS, Chroma, Pinecone, and Weaviate:\\nLangChain offers features and tools that make it easier to work with this concept. In particular, the use of modular abstractions, prebuilt \\nutilities, and community-backed best practices ensures that developers can implement solutions around vector stores: faiss, chroma, pinecone, \\nand weaviate efficiently. Whether integrating third-party APIs, working with documents, or building agents, LangChain provides end-to-end \\nsupport for vector stores: faiss, chroma, pinecone, and weaviate.\\n \\nCreating and Using Retrievers:\\nLangChain offers features and tools that make it easier to work with this concept. In particular, the use of modular abstractions, prebuilt \\nutilities, and community-backed best practices ensures that developers can implement solutions around creating and using retrievers \\nefficiently. Whether integrating third-party APIs, working with documents, or building agents, LangChain provides end-to-end support for \\ncreating and using retrievers.\\n \\nPrompt Engineering with LangChain:\\nLangChain offers features and tools that make it easier to work with this concept. In particular, the use of modular abstractions, prebuilt \\nutilities, and community-backed best practices ensures that developers can implement solutions around prompt engineering with langchain \\nefficiently. Whether integrating third-party APIs, working with documents, or building agents, LangChain provides end-to-end support for prompt \\nengineering with langchain.\\n \\nCombining Components using LangChain Expression Language (LCEL):\\nLangChain offers features and tools that make it easier to work with this concept. In particular, the use of modular abstractions, prebuilt \\nutilities, and community-backed best practices ensures that developers can implement solutions around combining components using \\nlangchain expression language (lcel) efficiently. Whether integrating third-party APIs, working with documents, or building agents, LangChain'), Document(metadata={'producer': 'pdfmake', 'creator': 'pdfmake', 'creationdate': '2025-04-10T15:03:35+00:00', 'source': '/content/sample_data/langchain_doc.pdf', 'total_pages': 6, 'page': 2, 'page_label': '3'}, page_content='provides end-to-end support for combining components using langchain expression language (lcel).\\n \\nAgents and Tools in LangChain:\\nLangChain offers features and tools that make it easier to work with this concept. In particular, the use of modular abstractions, prebuilt \\nutilities, and community-backed best practices ensures that developers can implement solutions around agents and tools in langchain \\nefficiently. Whether integrating third-party APIs, working with documents, or building agents, LangChain provides end-to-end support for agents \\nand tools in langchain.\\n \\nLangChain Memory for Stateful Conversations:\\nLangChain offers features and tools that make it easier to work with this concept. In particular, the use of modular abstractions, prebuilt \\nutilities, and community-backed best practices ensures that developers can implement solutions around langchain memory for stateful \\nconversations efficiently. Whether integrating third-party APIs, working with documents, or building agents, LangChain provides end-to-end \\nsupport for langchain memory for stateful conversations.\\n \\nStreaming and Callback Support:\\nLangChain offers features and tools that make it easier to work with this concept. In particular, the use of modular abstractions, prebuilt \\nutilities, and community-backed best practices ensures that developers can implement solutions around streaming and callback support \\nefficiently. Whether integrating third-party APIs, working with documents, or building agents, LangChain provides end-to-end support for \\nstreaming and callback support.\\n \\nIntegration with OpenAI and Other LLM Providers:\\nLangChain offers features and tools that make it easier to work with this concept. In particular, the use of modular abstractions, prebuilt \\nutilities, and community-backed best practices ensures that developers can implement solutions around integration with openai and other llm \\nproviders efficiently. Whether integrating third-party APIs, working with documents, or building agents, LangChain provides end-to-end support \\nfor integration with openai and other llm providers.\\n \\nLangChain Evaluation Modules:\\nLangChain offers features and tools that make it easier to work with this concept. In particular, the use of modular abstractions, prebuilt'), Document(metadata={'producer': 'pdfmake', 'creator': 'pdfmake', 'creationdate': '2025-04-10T15:03:35+00:00', 'source': '/content/sample_data/langchain_doc.pdf', 'total_pages': 6, 'page': 3, 'page_label': '4'}, page_content='utilities, and community-backed best practices ensures that developers can implement solutions around langchain evaluation modules \\nefficiently. Whether integrating third-party APIs, working with documents, or building agents, LangChain provides end-to-end support for \\nlangchain evaluation modules.\\n \\nDeploying LangChain Apps on the Cloud:\\nLangChain offers features and tools that make it easier to work with this concept. In particular, the use of modular abstractions, prebuilt \\nutilities, and community-backed best practices ensures that developers can implement solutions around deploying langchain apps on the cloud \\nefficiently. Whether integrating third-party APIs, working with documents, or building agents, LangChain provides end-to-end support for \\ndeploying langchain apps on the cloud.\\n \\nBuilding Chatbots with LangChain:\\nLangChain offers features and tools that make it easier to work with this concept. In particular, the use of modular abstractions, prebuilt \\nutilities, and community-backed best practices ensures that developers can implement solutions around building chatbots with langchain \\nefficiently. Whether integrating third-party APIs, working with documents, or building agents, LangChain provides end-to-end support for building \\nchatbots with langchain.\\n \\nUsing LangChain with PDFs and Markdown:\\nLangChain offers features and tools that make it easier to work with this concept. In particular, the use of modular abstractions, prebuilt \\nutilities, and community-backed best practices ensures that developers can implement solutions around using langchain with pdfs and \\nmarkdown efficiently. Whether integrating third-party APIs, working with documents, or building agents, LangChain provides end-to-end support \\nfor using langchain with pdfs and markdown.\\n \\nCreating APIs with LangChain and FastAPI:\\nLangChain offers features and tools that make it easier to work with this concept. In particular, the use of modular abstractions, prebuilt \\nutilities, and community-backed best practices ensures that developers can implement solutions around creating apis with langchain and \\nfastapi efficiently. Whether integrating third-party APIs, working with documents, or building agents, LangChain provides end-to-end support for \\ncreating apis with langchain and fastapi.'), Document(metadata={'producer': 'pdfmake', 'creator': 'pdfmake', 'creationdate': '2025-04-10T15:03:35+00:00', 'source': '/content/sample_data/langchain_doc.pdf', 'total_pages': 6, 'page': 4, 'page_label': '5'}, page_content='Multi-modal Applications using LangChain:\\nLangChain offers features and tools that make it easier to work with this concept. In particular, the use of modular abstractions, prebuilt \\nutilities, and community-backed best practices ensures that developers can implement solutions around multi-modal applications using \\nlangchain efficiently. Whether integrating third-party APIs, working with documents, or building agents, LangChain provides end-to-end support \\nfor multi-modal applications using langchain.\\n \\nLangChain for Data Extraction and Transformation:\\nLangChain offers features and tools that make it easier to work with this concept. In particular, the use of modular abstractions, prebuilt \\nutilities, and community-backed best practices ensures that developers can implement solutions around langchain for data extraction and \\ntransformation efficiently. Whether integrating third-party APIs, working with documents, or building agents, LangChain provides end-to-end \\nsupport for langchain for data extraction and transformation.\\n \\nAdvanced Use Cases: Coding Assistants and Research Bots:\\nLangChain offers features and tools that make it easier to work with this concept. In particular, the use of modular abstractions, prebuilt \\nutilities, and community-backed best practices ensures that developers can implement solutions around advanced use cases: coding \\nassistants and research bots efficiently. Whether integrating third-party APIs, working with documents, or building agents, LangChain provides \\nend-to-end support for advanced use cases: coding assistants and research bots.\\n \\nHandling Long Documents in LangChain:\\nLangChain offers features and tools that make it easier to work with this concept. In particular, the use of modular abstractions, prebuilt \\nutilities, and community-backed best practices ensures that developers can implement solutions around handling long documents in langchain \\nefficiently. Whether integrating third-party APIs, working with documents, or building agents, LangChain provides end-to-end support for \\nhandling long documents in langchain.\\n \\nCaching and Performance Optimization:\\nLangChain offers features and tools that make it easier to work with this concept. In particular, the use of modular abstractions, prebuilt \\nutilities, and community-backed best practices ensures that developers can implement solutions around caching and performance optimization \\nefficiently. Whether integrating third-party APIs, working with documents, or building agents, LangChain provides end-to-end support for caching \\nand performance optimization.'), Document(metadata={'producer': 'pdfmake', 'creator': 'pdfmake', 'creationdate': '2025-04-10T15:03:35+00:00', 'source': '/content/sample_data/langchain_doc.pdf', 'total_pages': 6, 'page': 5, 'page_label': '6'}, page_content='Security and Access Control in LangChain Apps:\\nLangChain offers features and tools that make it easier to work with this concept. In particular, the use of modular abstractions, prebuilt \\nutilities, and community-backed best practices ensures that developers can implement solutions around security and access control in \\nlangchain apps efficiently. Whether integrating third-party APIs, working with documents, or building agents, LangChain provides end-to-end \\nsupport for security and access control in langchain apps.\\n \\nLangSmith and Observability:\\nLangChain offers features and tools that make it easier to work with this concept. In particular, the use of modular abstractions, prebuilt \\nutilities, and community-backed best practices ensures that developers can implement solutions around langsmith and observability efficiently. \\nWhether integrating third-party APIs, working with documents, or building agents, LangChain provides end-to-end support for langsmith and \\nobservability.')] \n",
            " 6\n"
          ]
        }
      ]
    },
    {
      "cell_type": "code",
      "source": [
        "folder_path = \"/content/sample_data/data\"\n",
        "docs = []\n",
        "for filename in os.listdir(folder_path):\n",
        "  file_path = os.path.join(folder_path, filename)\n",
        "  print(file_path)\n",
        "\n",
        "  if filename.endswith(\".txt\"):\n",
        "    loader = TextLoader(file_path)\n",
        "\n",
        "  elif filename.endswith(\".csv\"):\n",
        "    loader = CSVLoader(file_path)\n",
        "\n",
        "  elif filename.endswith(\".pdf\"):\n",
        "    loader = PyPDFLoader(file_path)\n",
        "  else:\n",
        "    continue\n",
        "  docs.extend(loader.load())"
      ],
      "metadata": {
        "colab": {
          "base_uri": "https://localhost:8080/"
        },
        "id": "zrbA95hFCMX8",
        "outputId": "2bc581bd-f6b3-4f18-c41d-f6326ee80899"
      },
      "execution_count": 31,
      "outputs": [
        {
          "output_type": "stream",
          "name": "stdout",
          "text": [
            "/content/sample_data/data/langchain_doc.txt\n",
            "/content/sample_data/data/langchain_doc.pdf\n",
            "/content/sample_data/data/file1.csv\n"
          ]
        }
      ]
    },
    {
      "cell_type": "code",
      "source": [
        "len(docs)"
      ],
      "metadata": {
        "colab": {
          "base_uri": "https://localhost:8080/"
        },
        "id": "7ehIxsp8D3hx",
        "outputId": "17030084-33c4-4374-f649-cf09d3f686cb"
      },
      "execution_count": 37,
      "outputs": [
        {
          "output_type": "execute_result",
          "data": {
            "text/plain": [
              "10"
            ]
          },
          "metadata": {},
          "execution_count": 37
        }
      ]
    },
    {
      "cell_type": "code",
      "source": [
        "for i, doc in enumerate(docs[:10], 1):\n",
        "  print(f\"\\n--Document {i} ---\\n{doc.page_content[:3000]}\")"
      ],
      "metadata": {
        "colab": {
          "base_uri": "https://localhost:8080/"
        },
        "id": "EBVkBnQTD66N",
        "outputId": "b94dadb9-f4ca-4c67-dc87-e071700f90c0"
      },
      "execution_count": 38,
      "outputs": [
        {
          "output_type": "stream",
          "name": "stdout",
          "text": [
            "\n",
            "--Document 1 ---\n",
            "LangChain Introduction and Core Philosophy:\n",
            "LangChain offers features and tools that make it easier to work with this concept. In particular, the use of modular abstractions, prebuilt utilities, and community-backed best practices ensures that developers can implement solutions around langchain introduction and core philosophy efficiently. Whether integrating third-party APIs, working with documents, or building agents, LangChain provides end-to-end support for langchain introduction and core philosophy.\n",
            "\n",
            "How LangChain Integrates with Large Language Models:\n",
            "LangChain offers features and tools that make it easier to work with this concept. In particular, the use of modular abstractions, prebuilt utilities, and community-backed best practices ensures that developers can implement solutions around how langchain integrates with large language models efficiently. Whether integrating third-party APIs, working with documents, or building agents, LangChain provides end-to-end support for how langchain integrates with large language models.\n",
            "\n",
            "Retrieval-Augmented Generation (RAG) Workflows Explained:\n",
            "LangChain offers features and tools that make it easier to work with this concept. In particular, the use of modular abstractions, prebuilt utilities, and community-backed best practices ensures that developers can implement solutions around retrieval-augmented generation (rag) workflows explained efficiently. Whether integrating third-party APIs, working with documents, or building agents, LangChain provides end-to-end support for retrieval-augmented generation (rag) workflows explained.\n",
            "\n",
            "Document Loading and Supported File Formats:\n",
            "LangChain offers features and tools that make it easier to work with this concept. In particular, the use of modular abstractions, prebuilt utilities, and community-backed best practices ensures that developers can implement solutions around document loading and supported file formats efficiently. Whether integrating third-party APIs, working with documents, or building agents, LangChain provides end-to-end support for document loading and supported file formats.\n",
            "\n",
            "Text Chunking and RecursiveCharacterTextSplitter:\n",
            "LangChain offers features and tools that make it easier to work with this concept. In particular, the use of modular abstractions, prebuilt utilities, and community-backed best practices ensures that developers can implement solutions around text chunking and recursivecharactertextsplitter efficiently. Whether integrating third-party APIs, working with documents, or building agents, LangChain provides end-to-end support for text chunking and recursivecharactertextsplitter.\n",
            "\n",
            "Embedding Models: OpenAI, HuggingFace, and Cohere:\n",
            "LangChain offers features and tools that make it easier to work with this concept. In particular, the use of modular abstractions, prebuilt utilities, and community-backed best practices ensures that developers can implement solutions around embedding models: openai, huggingface, and cohere efficiently.\n",
            "\n",
            "--Document 2 ---\n",
            "LangChain Introduction and Core Philosophy:\n",
            "LangChain offers features and tools that make it easier to work with this concept. In particular, the use of modular abstractions, prebuilt \n",
            "utilities, and community-backed best practices ensures that developers can implement solutions around langchain introduction and core \n",
            "philosophy efficiently. Whether integrating third-party APIs, working with documents, or building agents, LangChain provides end-to-end support \n",
            "for langchain introduction and core philosophy.\n",
            " \n",
            "How LangChain Integrates with Large Language Models:\n",
            "LangChain offers features and tools that make it easier to work with this concept. In particular, the use of modular abstractions, prebuilt \n",
            "utilities, and community-backed best practices ensures that developers can implement solutions around how langchain integrates with large \n",
            "language models efficiently. Whether integrating third-party APIs, working with documents, or building agents, LangChain provides end-to-end \n",
            "support for how langchain integrates with large language models.\n",
            " \n",
            "Retrieval-Augmented Generation (RAG) Workflows Explained:\n",
            "LangChain offers features and tools that make it easier to work with this concept. In particular, the use of modular abstractions, prebuilt \n",
            "utilities, and community-backed best practices ensures that developers can implement solutions around retrieval-augmented generation (rag) \n",
            "workflows explained efficiently. Whether integrating third-party APIs, working with documents, or building agents, LangChain provides end-to-\n",
            "end support for retrieval-augmented generation (rag) workflows explained.\n",
            " \n",
            "Document Loading and Supported File Formats:\n",
            "LangChain offers features and tools that make it easier to work with this concept. In particular, the use of modular abstractions, prebuilt \n",
            "utilities, and community-backed best practices ensures that developers can implement solutions around document loading and supported file \n",
            "formats efficiently. Whether integrating third-party APIs, working with documents, or building agents, LangChain provides end-to-end support for \n",
            "document loading and supported file formats.\n",
            " \n",
            "Text Chunking and RecursiveCharacterTextSplitter:\n",
            "LangChain offers features and tools that make it easier to work with this concept. In particular, the use of modular abstractions, prebuilt \n",
            "utilities, and community-backed best practices ensures that developers can implement solutions around text chunking and \n",
            "recursivecharactertextsplitter efficiently. Whether integrating third-party APIs, working with documents, or building agents, LangChain provides \n",
            "end-to-end support for text chunking and recursivecharactertextsplitter.\n",
            "\n",
            "--Document 3 ---\n",
            "Embedding Models: OpenAI, HuggingFace, and Cohere:\n",
            "LangChain offers features and tools that make it easier to work with this concept. In particular, the use of modular abstractions, prebuilt \n",
            "utilities, and community-backed best practices ensures that developers can implement solutions around embedding models: openai, \n",
            "huggingface, and cohere efficiently. Whether integrating third-party APIs, working with documents, or building agents, LangChain provides end-\n",
            "to-end support for embedding models: openai, huggingface, and cohere.\n",
            " \n",
            "Vector Stores: FAISS, Chroma, Pinecone, and Weaviate:\n",
            "LangChain offers features and tools that make it easier to work with this concept. In particular, the use of modular abstractions, prebuilt \n",
            "utilities, and community-backed best practices ensures that developers can implement solutions around vector stores: faiss, chroma, pinecone, \n",
            "and weaviate efficiently. Whether integrating third-party APIs, working with documents, or building agents, LangChain provides end-to-end \n",
            "support for vector stores: faiss, chroma, pinecone, and weaviate.\n",
            " \n",
            "Creating and Using Retrievers:\n",
            "LangChain offers features and tools that make it easier to work with this concept. In particular, the use of modular abstractions, prebuilt \n",
            "utilities, and community-backed best practices ensures that developers can implement solutions around creating and using retrievers \n",
            "efficiently. Whether integrating third-party APIs, working with documents, or building agents, LangChain provides end-to-end support for \n",
            "creating and using retrievers.\n",
            " \n",
            "Prompt Engineering with LangChain:\n",
            "LangChain offers features and tools that make it easier to work with this concept. In particular, the use of modular abstractions, prebuilt \n",
            "utilities, and community-backed best practices ensures that developers can implement solutions around prompt engineering with langchain \n",
            "efficiently. Whether integrating third-party APIs, working with documents, or building agents, LangChain provides end-to-end support for prompt \n",
            "engineering with langchain.\n",
            " \n",
            "Combining Components using LangChain Expression Language (LCEL):\n",
            "LangChain offers features and tools that make it easier to work with this concept. In particular, the use of modular abstractions, prebuilt \n",
            "utilities, and community-backed best practices ensures that developers can implement solutions around combining components using \n",
            "langchain expression language (lcel) efficiently. Whether integrating third-party APIs, working with documents, or building agents, LangChain\n",
            "\n",
            "--Document 4 ---\n",
            "provides end-to-end support for combining components using langchain expression language (lcel).\n",
            " \n",
            "Agents and Tools in LangChain:\n",
            "LangChain offers features and tools that make it easier to work with this concept. In particular, the use of modular abstractions, prebuilt \n",
            "utilities, and community-backed best practices ensures that developers can implement solutions around agents and tools in langchain \n",
            "efficiently. Whether integrating third-party APIs, working with documents, or building agents, LangChain provides end-to-end support for agents \n",
            "and tools in langchain.\n",
            " \n",
            "LangChain Memory for Stateful Conversations:\n",
            "LangChain offers features and tools that make it easier to work with this concept. In particular, the use of modular abstractions, prebuilt \n",
            "utilities, and community-backed best practices ensures that developers can implement solutions around langchain memory for stateful \n",
            "conversations efficiently. Whether integrating third-party APIs, working with documents, or building agents, LangChain provides end-to-end \n",
            "support for langchain memory for stateful conversations.\n",
            " \n",
            "Streaming and Callback Support:\n",
            "LangChain offers features and tools that make it easier to work with this concept. In particular, the use of modular abstractions, prebuilt \n",
            "utilities, and community-backed best practices ensures that developers can implement solutions around streaming and callback support \n",
            "efficiently. Whether integrating third-party APIs, working with documents, or building agents, LangChain provides end-to-end support for \n",
            "streaming and callback support.\n",
            " \n",
            "Integration with OpenAI and Other LLM Providers:\n",
            "LangChain offers features and tools that make it easier to work with this concept. In particular, the use of modular abstractions, prebuilt \n",
            "utilities, and community-backed best practices ensures that developers can implement solutions around integration with openai and other llm \n",
            "providers efficiently. Whether integrating third-party APIs, working with documents, or building agents, LangChain provides end-to-end support \n",
            "for integration with openai and other llm providers.\n",
            " \n",
            "LangChain Evaluation Modules:\n",
            "LangChain offers features and tools that make it easier to work with this concept. In particular, the use of modular abstractions, prebuilt\n",
            "\n",
            "--Document 5 ---\n",
            "utilities, and community-backed best practices ensures that developers can implement solutions around langchain evaluation modules \n",
            "efficiently. Whether integrating third-party APIs, working with documents, or building agents, LangChain provides end-to-end support for \n",
            "langchain evaluation modules.\n",
            " \n",
            "Deploying LangChain Apps on the Cloud:\n",
            "LangChain offers features and tools that make it easier to work with this concept. In particular, the use of modular abstractions, prebuilt \n",
            "utilities, and community-backed best practices ensures that developers can implement solutions around deploying langchain apps on the cloud \n",
            "efficiently. Whether integrating third-party APIs, working with documents, or building agents, LangChain provides end-to-end support for \n",
            "deploying langchain apps on the cloud.\n",
            " \n",
            "Building Chatbots with LangChain:\n",
            "LangChain offers features and tools that make it easier to work with this concept. In particular, the use of modular abstractions, prebuilt \n",
            "utilities, and community-backed best practices ensures that developers can implement solutions around building chatbots with langchain \n",
            "efficiently. Whether integrating third-party APIs, working with documents, or building agents, LangChain provides end-to-end support for building \n",
            "chatbots with langchain.\n",
            " \n",
            "Using LangChain with PDFs and Markdown:\n",
            "LangChain offers features and tools that make it easier to work with this concept. In particular, the use of modular abstractions, prebuilt \n",
            "utilities, and community-backed best practices ensures that developers can implement solutions around using langchain with pdfs and \n",
            "markdown efficiently. Whether integrating third-party APIs, working with documents, or building agents, LangChain provides end-to-end support \n",
            "for using langchain with pdfs and markdown.\n",
            " \n",
            "Creating APIs with LangChain and FastAPI:\n",
            "LangChain offers features and tools that make it easier to work with this concept. In particular, the use of modular abstractions, prebuilt \n",
            "utilities, and community-backed best practices ensures that developers can implement solutions around creating apis with langchain and \n",
            "fastapi efficiently. Whether integrating third-party APIs, working with documents, or building agents, LangChain provides end-to-end support for \n",
            "creating apis with langchain and fastapi.\n",
            "\n",
            "--Document 6 ---\n",
            "Multi-modal Applications using LangChain:\n",
            "LangChain offers features and tools that make it easier to work with this concept. In particular, the use of modular abstractions, prebuilt \n",
            "utilities, and community-backed best practices ensures that developers can implement solutions around multi-modal applications using \n",
            "langchain efficiently. Whether integrating third-party APIs, working with documents, or building agents, LangChain provides end-to-end support \n",
            "for multi-modal applications using langchain.\n",
            " \n",
            "LangChain for Data Extraction and Transformation:\n",
            "LangChain offers features and tools that make it easier to work with this concept. In particular, the use of modular abstractions, prebuilt \n",
            "utilities, and community-backed best practices ensures that developers can implement solutions around langchain for data extraction and \n",
            "transformation efficiently. Whether integrating third-party APIs, working with documents, or building agents, LangChain provides end-to-end \n",
            "support for langchain for data extraction and transformation.\n",
            " \n",
            "Advanced Use Cases: Coding Assistants and Research Bots:\n",
            "LangChain offers features and tools that make it easier to work with this concept. In particular, the use of modular abstractions, prebuilt \n",
            "utilities, and community-backed best practices ensures that developers can implement solutions around advanced use cases: coding \n",
            "assistants and research bots efficiently. Whether integrating third-party APIs, working with documents, or building agents, LangChain provides \n",
            "end-to-end support for advanced use cases: coding assistants and research bots.\n",
            " \n",
            "Handling Long Documents in LangChain:\n",
            "LangChain offers features and tools that make it easier to work with this concept. In particular, the use of modular abstractions, prebuilt \n",
            "utilities, and community-backed best practices ensures that developers can implement solutions around handling long documents in langchain \n",
            "efficiently. Whether integrating third-party APIs, working with documents, or building agents, LangChain provides end-to-end support for \n",
            "handling long documents in langchain.\n",
            " \n",
            "Caching and Performance Optimization:\n",
            "LangChain offers features and tools that make it easier to work with this concept. In particular, the use of modular abstractions, prebuilt \n",
            "utilities, and community-backed best practices ensures that developers can implement solutions around caching and performance optimization \n",
            "efficiently. Whether integrating third-party APIs, working with documents, or building agents, LangChain provides end-to-end support for caching \n",
            "and performance optimization.\n",
            "\n",
            "--Document 7 ---\n",
            "Security and Access Control in LangChain Apps:\n",
            "LangChain offers features and tools that make it easier to work with this concept. In particular, the use of modular abstractions, prebuilt \n",
            "utilities, and community-backed best practices ensures that developers can implement solutions around security and access control in \n",
            "langchain apps efficiently. Whether integrating third-party APIs, working with documents, or building agents, LangChain provides end-to-end \n",
            "support for security and access control in langchain apps.\n",
            " \n",
            "LangSmith and Observability:\n",
            "LangChain offers features and tools that make it easier to work with this concept. In particular, the use of modular abstractions, prebuilt \n",
            "utilities, and community-backed best practices ensures that developers can implement solutions around langsmith and observability efficiently. \n",
            "Whether integrating third-party APIs, working with documents, or building agents, LangChain provides end-to-end support for langsmith and \n",
            "observability.\n",
            "\n",
            "--Document 8 ---\n",
            "name: LangChain\n",
            "description: A framework for developing LLM-powered applications.\n",
            "\n",
            "--Document 9 ---\n",
            "name: OpenAI\n",
            "description: An AI research company developing advanced language models.\n",
            "\n",
            "--Document 10 ---\n",
            "name: Chroma\n",
            "description: An open-source vector store for embeddings and similarity search.\n"
          ]
        }
      ]
    },
    {
      "cell_type": "markdown",
      "source": [
        "#Load the content from Webpage"
      ],
      "metadata": {
        "id": "ACqYFixmF3H8"
      }
    },
    {
      "cell_type": "code",
      "source": [
        "url = \"https://python.langchain.com/docs/introduction/\"\n",
        "loader = WebBaseLoader(url)\n",
        "web_docs = loader.load()\n",
        "len(docs)"
      ],
      "metadata": {
        "colab": {
          "base_uri": "https://localhost:8080/"
        },
        "id": "zUjMPo6tFrj8",
        "outputId": "6e9a4f89-1c05-45e2-c884-85fa104c5978"
      },
      "execution_count": 42,
      "outputs": [
        {
          "output_type": "execute_result",
          "data": {
            "text/plain": [
              "1"
            ]
          },
          "metadata": {},
          "execution_count": 42
        }
      ]
    },
    {
      "cell_type": "code",
      "source": [
        "for doc in web_docs:\n",
        "  print(doc.page_content)"
      ],
      "metadata": {
        "colab": {
          "base_uri": "https://localhost:8080/"
        },
        "id": "N-tSDOsCGPuE",
        "outputId": "24317d34-dfcb-442f-a373-eb86d0a04406"
      },
      "execution_count": 43,
      "outputs": [
        {
          "output_type": "stream",
          "name": "stdout",
          "text": [
            "\n",
            "\n",
            "\n",
            "\n",
            "\n",
            "Introduction | ü¶úÔ∏èüîó LangChain\n",
            "\n",
            "\n",
            "\n",
            "\n",
            "\n",
            "\n",
            "Skip to main contentWe are growing and hiring for multiple roles for LangChain, LangGraph and LangSmith.  Join our team!IntegrationsAPI ReferenceMoreContributingPeopleError referenceLangSmithLangGraphLangChain HubLangChain JS/TSv0.3v0.3v0.2v0.1üí¨SearchIntroductionTutorialsBuild a Question Answering application over a Graph DatabaseTutorialsBuild a simple LLM application with chat models and prompt templatesBuild a ChatbotBuild a Retrieval Augmented Generation (RAG) App: Part 2Build an Extraction ChainBuild an AgentTaggingBuild a Retrieval Augmented Generation (RAG) App: Part 1Build a semantic search engineBuild a Question/Answering system over SQL dataSummarize TextHow-to guidesHow-to guidesHow to use tools in a chainHow to use a vectorstore as a retrieverHow to add memory to chatbotsHow to use example selectorsHow to add a semantic layer over graph databaseHow to invoke runnables in parallelHow to stream chat model responsesHow to add default invocation args to a RunnableHow to add retrieval to chatbotsHow to use few shot examples in chat modelsHow to do tool/function callingHow to install LangChain packagesHow to add examples to the prompt for query analysisHow to use few shot examplesHow to run custom functionsHow to use output parsers to parse an LLM response into structured formatHow to handle cases where no queries are generatedHow to route between sub-chainsHow to return structured data from a modelHow to summarize text through parallelizationHow to summarize text through iterative refinementHow to summarize text in a single LLM callHow to use toolkitsHow to add ad-hoc tool calling capability to LLMs and Chat ModelsBuild an Agent with AgentExecutor (Legacy)How to construct knowledge graphsHow to partially format prompt templatesHow to handle multiple queries when doing query analysisHow to use built-in tools and toolkitsHow to pass through arguments from one step to the nextHow to compose prompts togetherHow to handle multiple retrievers when doing query analysisHow to add values to a chain's stateHow to construct filters for query analysisHow to configure runtime chain internalsHow deal with high cardinality categoricals when doing query analysisCustom Document LoaderHow to use the MultiQueryRetrieverHow to add scores to retriever resultsCachingHow to use callbacks in async environmentsHow to attach callbacks to a runnableHow to propagate callbacks  constructorHow to dispatch custom callback eventsHow to pass callbacks in at runtimeHow to split by characterHow to cache chat model responsesHow to handle rate limitsHow to init any model in one lineHow to track token usage in ChatModelsHow to add tools to chatbotsHow to split codeHow to do retrieval with contextual compressionHow to convert Runnables to ToolsHow to create custom callback handlersHow to create a custom chat model classCustom EmbeddingsHow to create a custom LLM classCustom RetrieverHow to create toolsHow to debug your LLM appsHow to load CSVsHow to load documents from a directoryHow to load HTMLHow to load JSONHow to load MarkdownHow to load Microsoft Office filesHow to load PDFsHow to load web pagesHow to create a dynamic (self-constructing) chainText embedding modelsHow to combine results from multiple retrieversHow to select examples from a LangSmith datasetHow to select examples by lengthHow to select examples by maximal marginal relevance (MMR)How to select examples by n-gram overlapHow to select examples by similarityHow to use reference examples when doing extractionHow to handle long text when doing extractionHow to use prompting alone (no tool calling) to do extractionHow to add fallbacks to a runnableHow to filter messagesHybrid SearchHow to use the LangChain indexing APIHow to inspect runnablesLangChain Expression Language CheatsheetHow to cache LLM responsesHow to track token usage for LLMsRun models locallyHow to get log probabilitiesHow to reorder retrieved results to mitigate the \"lost in the middle\" effectHow to split Markdown by HeadersHow to merge consecutive messages of the same typeHow to add message historyHow to migrate from legacy LangChain agents to LangGraphHow to retrieve using multiple vectors per documentHow to pass multimodal data to modelsHow to use multimodal promptsHow to create a custom Output ParserHow to use the output-fixing parserHow to parse JSON outputHow to retry when a parsing error occursHow to parse text from message objectsHow to parse XML outputHow to parse YAML outputHow to use the Parent Document RetrieverHow to use LangChain with different Pydantic versionsHow to add chat historyHow to get a RAG application to add citationsHow to do per-user retrievalHow to get your RAG application to return sourcesHow to stream results from your RAG applicationHow to split JSON dataHow to recursively split text by charactersResponse metadataHow to pass runtime secrets to runnablesHow to do \"self-querying\" retrievalHow to split text based on semantic similarityHow to chain runnablesHow to save and load LangChain objectsHow to split text by tokensHow to split HTMLHow to do question answering over CSVsHow to deal with large databases when doing SQL question-answeringHow to better prompt when doing SQL question-answeringHow to do query validation as part of SQL question-answeringHow to stream runnablesHow to stream responses from an LLMHow to use a time-weighted vector store retrieverHow to return artifacts from a toolHow to use chat models to call toolsHow to disable parallel tool callingHow to force models to call a toolHow to access the RunnableConfig from a toolHow to pass tool outputs to chat modelsHow to pass run time values to toolsHow to stream events from a toolHow to stream tool callsHow to convert tools to OpenAI FunctionsHow to handle tool errorsHow to use few-shot prompting with tool callingHow to add a human-in-the-loop for toolsHow to bind model-specific toolsHow to trim messagesHow to create and query vector storesConceptual guideAgentsArchitectureAsync programming with langchainCallbacksChat historyChat modelsDocument loadersEmbedding modelsEvaluationExample selectorsFew-shot promptingConceptual guideKey-value storesLangChain Expression Language (LCEL)MessagesMultimodalityOutput parsersPrompt TemplatesRetrieval augmented generation (RAG)RetrievalRetrieversRunnable interfaceStreamingStructured outputsTestingString-in, string-out llmsText splittersTokensTool callingToolsTracingVector storesWhy LangChain?Ecosystemü¶úüõ†Ô∏è LangSmithü¶úüï∏Ô∏è LangGraphVersionsv0.3v0.2Pydantic compatibilityMigrating from v0.0 chainsHow to migrate from v0.0 chainsMigrating from ConstitutionalChainMigrating from ConversationalChainMigrating from ConversationalRetrievalChainMigrating from LLMChainMigrating from LLMMathChainMigrating from LLMRouterChainMigrating from MapReduceDocumentsChainMigrating from MapRerankDocumentsChainMigrating from MultiPromptChainMigrating from RefineDocumentsChainMigrating from RetrievalQAMigrating from StuffDocumentsChainUpgrading to LangGraph memoryHow to migrate to LangGraph memoryHow to use BaseChatMessageHistory with LangGraphMigrating off ConversationBufferMemory or ConversationStringBufferMemoryMigrating off ConversationBufferWindowMemory or ConversationTokenBufferMemoryMigrating off ConversationSummaryMemory or ConversationSummaryBufferMemoryA Long-Term Memory AgentRelease policySecurity PolicyIntroductionOn this pageIntroduction\n",
            "LangChain is a framework for developing applications powered by large language models (LLMs).\n",
            "LangChain simplifies every stage of the LLM application lifecycle:\n",
            "\n",
            "Development: Build your applications using LangChain's open-source components and third-party integrations.\n",
            "Use LangGraph to build stateful agents with first-class streaming and human-in-the-loop support.\n",
            "Productionization: Use LangSmith to inspect, monitor and evaluate your applications, so that you can continuously optimize and deploy with confidence.\n",
            "Deployment: Turn your LangGraph applications into production-ready APIs and Assistants with LangGraph Platform.\n",
            "\n",
            "\n",
            "\n",
            "LangChain implements a standard interface for large language models and related\n",
            "technologies, such as embedding models and vector stores, and integrates with\n",
            "hundreds of providers. See the integrations page for\n",
            "more.\n",
            "\n",
            "Select chat model:OpenAI‚ñæOpenAIAnthropicAzureGoogle GeminiGoogle VertexAWSGroqCohereNVIDIAFireworks AIMistral AITogether AIIBM watsonxDatabricksxAIPerplexitypip install -qU \"langchain[openai]\"import getpassimport osif not os.environ.get(\"OPENAI_API_KEY\"):  os.environ[\"OPENAI_API_KEY\"] = getpass.getpass(\"Enter API key for OpenAI: \")from langchain.chat_models import init_chat_modelmodel = init_chat_model(\"gpt-4o-mini\", model_provider=\"openai\")\n",
            "model.invoke(\"Hello, world!\")\n",
            "noteThese docs focus on the Python LangChain library. Head here for docs on the JavaScript LangChain library.\n",
            "Architecture‚Äã\n",
            "The LangChain framework consists of multiple open-source libraries. Read more in the\n",
            "Architecture page.\n",
            "\n",
            "langchain-core: Base abstractions for chat models and other components.\n",
            "Integration packages (e.g. langchain-openai, langchain-anthropic, etc.): Important integrations have been split into lightweight packages that are co-maintained by the LangChain team and the integration developers.\n",
            "langchain: Chains, agents, and retrieval strategies that make up an application's cognitive architecture.\n",
            "langchain-community: Third-party integrations that are community maintained.\n",
            "langgraph: Orchestration framework for combining LangChain components into production-ready applications with persistence, streaming, and other key features. See LangGraph documentation.\n",
            "\n",
            "Guides‚Äã\n",
            "Tutorials‚Äã\n",
            "If you're looking to build something specific or are more of a hands-on learner, check out our tutorials section.\n",
            "This is the best place to get started.\n",
            "These are the best ones to get started with:\n",
            "\n",
            "Build a Simple LLM Application\n",
            "Build a Chatbot\n",
            "Build an Agent\n",
            "Introduction to LangGraph\n",
            "\n",
            "Explore the full list of LangChain tutorials here, and check out other LangGraph tutorials here. To learn more about LangGraph, check out our first LangChain Academy course, Introduction to LangGraph, available here.\n",
            "How-to guides‚Äã\n",
            "Here you‚Äôll find short answers to ‚ÄúHow do I‚Ä¶.?‚Äù types of questions.\n",
            "These how-to guides don‚Äôt cover topics in depth ‚Äì you‚Äôll find that material in the Tutorials and the API Reference.\n",
            "However, these guides will help you quickly accomplish common tasks using chat models,\n",
            "vector stores, and other common LangChain components.\n",
            "Check out LangGraph-specific how-tos here.\n",
            "Conceptual guide‚Äã\n",
            "Introductions to all the key parts of LangChain you‚Äôll need to know! Here you'll find high level explanations of all LangChain concepts.\n",
            "For a deeper dive into LangGraph concepts, check out this page.\n",
            "Integrations‚Äã\n",
            "LangChain is part of a rich ecosystem of tools that integrate with our framework and build on top of it.\n",
            "If you're looking to get up and running quickly with chat models, vector stores,\n",
            "or other LangChain components from a specific provider, check out our growing list of integrations.\n",
            "API reference‚Äã\n",
            "Head to the reference section for full documentation of all classes and methods in the LangChain Python packages.\n",
            "Ecosystem‚Äã\n",
            "ü¶úüõ†Ô∏è LangSmith‚Äã\n",
            "Trace and evaluate your language model applications and intelligent agents to help you move from prototype to production.\n",
            "ü¶úüï∏Ô∏è LangGraph‚Äã\n",
            "Build stateful, multi-actor applications with LLMs. Integrates smoothly with LangChain, but can be used without it. LangGraph powers production-grade agents, trusted by Linkedin, Uber, Klarna, GitLab, and many more.\n",
            "Additional resources‚Äã\n",
            "Versions‚Äã\n",
            "See what changed in v0.3, learn how to migrate legacy code, read up on our versioning policies, and more.\n",
            "Security‚Äã\n",
            "Read up on security best practices to make sure you're developing safely with LangChain.\n",
            "Contributing‚Äã\n",
            "Check out the developer's guide for guidelines on contributing and help getting your dev environment set up.Edit this pageWas this page helpful?NextTutorialsArchitectureGuidesTutorialsHow-to guidesConceptual guideIntegrationsAPI referenceEcosystemü¶úüõ†Ô∏è LangSmithü¶úüï∏Ô∏è LangGraphAdditional resourcesVersionsSecurityContributingCommunityTwitterGitHubOrganizationPythonJS/TSMoreHomepageBlogYouTubeCopyright ¬© 2025 LangChain, Inc.\n",
            "\n",
            "\n"
          ]
        }
      ]
    },
    {
      "cell_type": "code",
      "source": [
        "from bs4 import BeautifulSoup\n",
        "import requests\n",
        "from langchain_core.documents import Document"
      ],
      "metadata": {
        "id": "TNyWA9dvGbLg"
      },
      "execution_count": 45,
      "outputs": []
    },
    {
      "cell_type": "code",
      "source": [
        "#Step 1: Load the webpage\n",
        "url = \"https://python.langchain.com/docs/introduction/\"\n",
        "response = requests.get(url)\n",
        "soup = BeautifulSoup(response.text, \"html.parser\")\n",
        "\n",
        "#step 2: Extract content by class name\n",
        "sections = soup.find_all(class_ = \"tableOfContents_bqdL thin-scrollbar theme-doc-toc-desktop\")\n",
        "\n",
        "#step 3: Convert to Langchain Documents\n",
        "docs = []\n",
        "for section in sections:\n",
        "  text = section.get_text(separator=\"\\n\").strip()\n",
        "  if text:\n",
        "    docs.append(Document(page_content=text, metadata={\"source\":url}))\n",
        "\n",
        "#step4: Print preview\n",
        "for i, doc in enumerate(docs, 1):\n",
        "  print(f\"\\n--- Document {i} ---\\n {doc.page_content[:500]}\")"
      ],
      "metadata": {
        "colab": {
          "base_uri": "https://localhost:8080/"
        },
        "id": "u8t4TBgaGznF",
        "outputId": "247e484c-6bd2-4e5b-9ce1-6acf3ac006c1"
      },
      "execution_count": 53,
      "outputs": [
        {
          "output_type": "stream",
          "name": "stdout",
          "text": [
            "\n",
            "--- Document 1 ---\n",
            " Architecture\n",
            "Guides\n",
            "Tutorials\n",
            "How-to guides\n",
            "Conceptual guide\n",
            "Integrations\n",
            "API reference\n",
            "Ecosystem\n",
            "🦜🛠️ LangSmith\n",
            "🦜🕸️ LangGraph\n",
            "Additional resources\n",
            "Versions\n",
            "Security\n",
            "Contributing\n"
          ]
        }
      ]
    }
  ]
}