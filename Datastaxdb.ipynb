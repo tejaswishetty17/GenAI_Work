{
  "nbformat": 4,
  "nbformat_minor": 0,
  "metadata": {
    "colab": {
      "provenance": [],
      "authorship_tag": "ABX9TyNM/9QVTd/uwW164l2d98FV",
      "include_colab_link": true
    },
    "kernelspec": {
      "name": "python3",
      "display_name": "Python 3"
    },
    "language_info": {
      "name": "python"
    }
  },
  "cells": [
    {
      "cell_type": "markdown",
      "metadata": {
        "id": "view-in-github",
        "colab_type": "text"
      },
      "source": [
        "<a href=\"https://colab.research.google.com/github/tejaswishetty17/GenAI_Work/blob/main/Datastaxdb.ipynb\" target=\"_parent\"><img src=\"https://colab.research.google.com/assets/colab-badge.svg\" alt=\"Open In Colab\"/></a>"
      ]
    },
    {
      "cell_type": "markdown",
      "source": [
        "### ASTRADB VectorStore\n",
        "Go from app idea to production with the AI Platform with Astra DB, the ultra-low latency database made for AI and Langflow, the low-code RAG IDE\n",
        "https://www.datastax.com/"
      ],
      "metadata": {
        "id": "jJcbs3rpeZx0"
      }
    },
    {
      "cell_type": "code",
      "execution_count": null,
      "metadata": {
        "id": "w3CDQXxWeHYQ"
      },
      "outputs": [],
      "source": [
        "!pip install -q \\\n",
        "    \"langchain>=0.3.23,<0.4\" \\\n",
        "    \"langchain-core>=0.3.52,<0.4\" \\\n",
        "    \"langchain-astradb>=0.6,<0.7\""
      ]
    },
    {
      "cell_type": "code",
      "source": [
        "!pip install -q langchain_openai"
      ],
      "metadata": {
        "id": "ZzDBIimveglD"
      },
      "execution_count": null,
      "outputs": []
    },
    {
      "cell_type": "code",
      "source": [
        "###Config\n",
        "ASTRA_DB_API_ENDPOINT = \"\"\n",
        "ASTRA_DB_APPLICATION_TOKEN = \"\""
      ],
      "metadata": {
        "id": "lTUmD7IUel-0"
      },
      "execution_count": null,
      "outputs": []
    },
    {
      "cell_type": "code",
      "source": [
        "from langchain_openai import OpenAIEmbeddings\n",
        "embeddings = OpenAIEmbeddings(model = \"text-embedding-3-small\", dimensions=1024, api_key = \"\")"
      ],
      "metadata": {
        "id": "CY_D-q0qfUVC"
      },
      "execution_count": null,
      "outputs": []
    },
    {
      "cell_type": "code",
      "source": [
        "embeddings"
      ],
      "metadata": {
        "colab": {
          "base_uri": "https://localhost:8080/"
        },
        "id": "NlB0xnE7fnVJ",
        "outputId": "f1b0dd19-b6f9-4334-e119-ae979db239e7"
      },
      "execution_count": null,
      "outputs": [
        {
          "output_type": "execute_result",
          "data": {
            "text/plain": [
              "OpenAIEmbeddings(client=<openai.resources.embeddings.Embeddings object at 0x7ae118cbca10>, async_client=<openai.resources.embeddings.AsyncEmbeddings object at 0x7ae118cac080>, model='text-embedding-3-small', dimensions=1024, deployment='text-embedding-ada-002', openai_api_version=None, openai_api_base=None, openai_api_type=None, openai_proxy=None, embedding_ctx_length=8191, openai_api_key=SecretStr('**********'), openai_organization=None, allowed_special=None, disallowed_special=None, chunk_size=1000, max_retries=2, request_timeout=None, headers=None, tiktoken_enabled=True, tiktoken_model_name=None, show_progress_bar=False, model_kwargs={}, skip_empty=False, default_headers=None, default_query=None, retry_min_seconds=4, retry_max_seconds=20, http_client=None, http_async_client=None, check_embedding_ctx_length=True)"
            ]
          },
          "metadata": {},
          "execution_count": 7
        }
      ]
    },
    {
      "cell_type": "code",
      "source": [
        "from langchain_astradb import AstraDBVectorStore\n",
        "vector_store = AstraDBVectorStore(\n",
        "    embedding=embeddings,\n",
        "    api_endpoint=ASTRA_DB_API_ENDPOINT,\n",
        "    collection_name=\"astra_vector_langchain\",\n",
        "    token = ASTRA_DB_APPLICATION_TOKEN,\n",
        "    namespace=None\n",
        ")\n",
        "vector_store"
      ],
      "metadata": {
        "colab": {
          "base_uri": "https://localhost:8080/"
        },
        "id": "AM7gEO5EftM8",
        "outputId": "c05a5f18-2c14-45a3-f454-bd38e6dcab5d"
      },
      "execution_count": null,
      "outputs": [
        {
          "output_type": "execute_result",
          "data": {
            "text/plain": [
              "<langchain_astradb.vectorstores.AstraDBVectorStore at 0x7ae10b9846b0>"
            ]
          },
          "metadata": {},
          "execution_count": 9
        }
      ]
    },
    {
      "cell_type": "code",
      "source": [
        "from langchain_core.documents import Document\n",
        "\n",
        "document_1 = Document(\n",
        "    page_content=\"I had chocolate chip pancakes and scrambled eggs for breakfast this morning.\",\n",
        "    metadata={\"source\": \"tweet\"},\n",
        ")\n",
        "\n",
        "document_2 = Document(\n",
        "    page_content=\"The weather forecast for tomorrow is cloudy and overcast, with a high of 62 degrees.\",\n",
        "    metadata={\"source\": \"news\"},\n",
        ")\n",
        "\n",
        "document_3 = Document(\n",
        "    page_content=\"Building an exciting new project with LangChain - come check it out!\",\n",
        "    metadata={\"source\": \"tweet\"},\n",
        ")\n",
        "\n",
        "document_4 = Document(\n",
        "    page_content=\"Robbers broke into the city bank and stole $1 million in cash.\",\n",
        "    metadata={\"source\": \"news\"},\n",
        ")\n",
        "\n",
        "document_5 = Document(\n",
        "    page_content=\"Wow! That was an amazing movie. I can't wait to see it again.\",\n",
        "    metadata={\"source\": \"tweet\"},\n",
        ")\n",
        "\n",
        "document_6 = Document(\n",
        "    page_content=\"Is the new iPhone worth the price? Read this review to find out.\",\n",
        "    metadata={\"source\": \"website\"},\n",
        ")\n",
        "\n",
        "document_7 = Document(\n",
        "    page_content=\"The top 10 soccer players in the world right now.\",\n",
        "    metadata={\"source\": \"website\"},\n",
        ")\n",
        "\n",
        "document_8 = Document(\n",
        "    page_content=\"LangGraph is the best framework for building stateful, agentic applications!\",\n",
        "    metadata={\"source\": \"tweet\"},\n",
        ")\n",
        "\n",
        "document_9 = Document(\n",
        "    page_content=\"The stock market is down 500 points today due to fears of a recession.\",\n",
        "    metadata={\"source\": \"news\"},\n",
        ")\n",
        "\n",
        "document_10 = Document(\n",
        "    page_content=\"I have a bad feeling I am going to get deleted :(\",\n",
        "    metadata={\"source\": \"tweet\"},\n",
        ")\n",
        "\n",
        "documents = [\n",
        "    document_1,\n",
        "    document_2,\n",
        "    document_3,\n",
        "    document_4,\n",
        "    document_5,\n",
        "    document_6,\n",
        "    document_7,\n",
        "    document_8,\n",
        "    document_9,\n",
        "    document_10,\n",
        "]\n",
        "documents"
      ],
      "metadata": {
        "colab": {
          "base_uri": "https://localhost:8080/"
        },
        "id": "lsIKbsylgtlt",
        "outputId": "38c17fcf-f115-4d5e-956e-d1ee34857c61"
      },
      "execution_count": null,
      "outputs": [
        {
          "output_type": "execute_result",
          "data": {
            "text/plain": [
              "[Document(metadata={'source': 'tweet'}, page_content='I had chocolate chip pancakes and scrambled eggs for breakfast this morning.'),\n",
              " Document(metadata={'source': 'news'}, page_content='The weather forecast for tomorrow is cloudy and overcast, with a high of 62 degrees.'),\n",
              " Document(metadata={'source': 'tweet'}, page_content='Building an exciting new project with LangChain - come check it out!'),\n",
              " Document(metadata={'source': 'news'}, page_content='Robbers broke into the city bank and stole $1 million in cash.'),\n",
              " Document(metadata={'source': 'tweet'}, page_content=\"Wow! That was an amazing movie. I can't wait to see it again.\"),\n",
              " Document(metadata={'source': 'website'}, page_content='Is the new iPhone worth the price? Read this review to find out.'),\n",
              " Document(metadata={'source': 'website'}, page_content='The top 10 soccer players in the world right now.'),\n",
              " Document(metadata={'source': 'tweet'}, page_content='LangGraph is the best framework for building stateful, agentic applications!'),\n",
              " Document(metadata={'source': 'news'}, page_content='The stock market is down 500 points today due to fears of a recession.'),\n",
              " Document(metadata={'source': 'tweet'}, page_content='I have a bad feeling I am going to get deleted :(')]"
            ]
          },
          "metadata": {},
          "execution_count": 10
        }
      ]
    },
    {
      "cell_type": "code",
      "source": [
        "vector_store.add_documents(documents=documents)"
      ],
      "metadata": {
        "colab": {
          "base_uri": "https://localhost:8080/"
        },
        "id": "FrAbHyYKg2Q5",
        "outputId": "82c2e457-64b8-40de-a9db-c2f13941f32b"
      },
      "execution_count": null,
      "outputs": [
        {
          "output_type": "execute_result",
          "data": {
            "text/plain": [
              "['daaea19ddf9143c18c7ad631cfa33a97',\n",
              " '718b4a9bb06e44538ac4c3c6992165c4',\n",
              " '46d0f5ab2c1547fc84e3595527033d07',\n",
              " '47eb9d66685f4f4698612ffd9b7b0d20',\n",
              " 'acf0ada14e2a4fbe925f6b331fca3b27',\n",
              " '41ba740e371d4a4caf7dd9f3c6e49775',\n",
              " 'd47debc4d6d34e2b818c197a5d186a8b',\n",
              " '55d9a8ea34f04c70a90efd86ce2c30d4',\n",
              " '0dd3dae406904f5a9572b6eab12fa40c',\n",
              " 'b6eba6c382b742b08cffb65fdafc22bb']"
            ]
          },
          "metadata": {},
          "execution_count": 11
        }
      ]
    },
    {
      "cell_type": "code",
      "source": [
        "### Search from vectore store DB\n",
        "\n",
        "vector_store.similarity_search(\"What is the weather?\")"
      ],
      "metadata": {
        "colab": {
          "base_uri": "https://localhost:8080/"
        },
        "id": "X8FijqA3hF2D",
        "outputId": "0d287472-707c-4dce-b92e-c6d691bf077d"
      },
      "execution_count": null,
      "outputs": [
        {
          "output_type": "execute_result",
          "data": {
            "text/plain": [
              "[Document(id='718b4a9bb06e44538ac4c3c6992165c4', metadata={'source': 'news'}, page_content='The weather forecast for tomorrow is cloudy and overcast, with a high of 62 degrees.'),\n",
              " Document(id='b6eba6c382b742b08cffb65fdafc22bb', metadata={'source': 'tweet'}, page_content='I have a bad feeling I am going to get deleted :('),\n",
              " Document(id='0dd3dae406904f5a9572b6eab12fa40c', metadata={'source': 'news'}, page_content='The stock market is down 500 points today due to fears of a recession.'),\n",
              " Document(id='d47debc4d6d34e2b818c197a5d186a8b', metadata={'source': 'website'}, page_content='The top 10 soccer players in the world right now.')]"
            ]
          },
          "metadata": {},
          "execution_count": 12
        }
      ]
    },
    {
      "cell_type": "code",
      "source": [
        "results = vector_store.similarity_search(\n",
        "    \"Langchain provides abstractions to make working with LLMs easy\",\n",
        "    k=3,\n",
        "    filter = {\"source\":\"tweet\"},\n",
        ")\n",
        "\n",
        "for res in results:\n",
        "  print(f'*\"{res.page_content}\",metadata={res.metadata}')"
      ],
      "metadata": {
        "colab": {
          "base_uri": "https://localhost:8080/"
        },
        "id": "R1JX4fVahREv",
        "outputId": "bde65757-98a8-434b-860f-cbbe49d6575e"
      },
      "execution_count": null,
      "outputs": [
        {
          "output_type": "stream",
          "name": "stdout",
          "text": [
            "*\"LangGraph is the best framework for building stateful, agentic applications!\",metadata={'source': 'tweet'}\n",
            "*\"Building an exciting new project with LangChain - come check it out!\",metadata={'source': 'tweet'}\n",
            "*\"Wow! That was an amazing movie. I can't wait to see it again.\",metadata={'source': 'tweet'}\n"
          ]
        }
      ]
    },
    {
      "cell_type": "code",
      "source": [
        "results = vector_store.similarity_search_with_score(\n",
        "    \"Langchain provides abstractions to make working with LLMs easy\",\n",
        "    k=3,\n",
        "    filter = {\"source\":\"tweet\"},\n",
        ")\n",
        "\n",
        "for res, score in results:\n",
        "  print(f'*[SIM = {score:.2f}]\"{res.page_content}\",metadata={res.metadata}')"
      ],
      "metadata": {
        "colab": {
          "base_uri": "https://localhost:8080/"
        },
        "id": "NQojL0r23bz8",
        "outputId": "002bc7ad-62bc-44b6-a4d1-c4ff0d011f76"
      },
      "execution_count": null,
      "outputs": [
        {
          "output_type": "stream",
          "name": "stdout",
          "text": [
            "*[SIM = 0.71]\"LangGraph is the best framework for building stateful, agentic applications!\",metadata={'source': 'tweet'}\n",
            "*[SIM = 0.69]\"Building an exciting new project with LangChain - come check it out!\",metadata={'source': 'tweet'}\n",
            "*[SIM = 0.53]\"Wow! That was an amazing movie. I can't wait to see it again.\",metadata={'source': 'tweet'}\n"
          ]
        }
      ]
    },
    {
      "cell_type": "code",
      "source": [
        "#Retriever\n",
        "retriever = vector_store.as_retriever(\n",
        "    search_type = \"similarity_score_threshold\",\n",
        "    search_kwargs={\"k\":1, \"score_threshold\":0.5},\n",
        "\n",
        ")\n",
        "retriever.invoke(\"Stealing from the bank is a crime\", filter={\"source\":\"news\"})"
      ],
      "metadata": {
        "colab": {
          "base_uri": "https://localhost:8080/"
        },
        "id": "IyTAE6FV3qag",
        "outputId": "5674db34-4297-4152-c9b5-70b61ca5e5be"
      },
      "execution_count": null,
      "outputs": [
        {
          "output_type": "execute_result",
          "data": {
            "text/plain": [
              "[Document(id='47eb9d66685f4f4698612ffd9b7b0d20', metadata={'source': 'news'}, page_content='Robbers broke into the city bank and stole $1 million in cash.')]"
            ]
          },
          "metadata": {},
          "execution_count": 22
        }
      ]
    },
    {
      "cell_type": "code",
      "source": [
        "#Retriever\n",
        "retriever = vector_store.as_retriever(\n",
        "    search_type = \"mmr\",\n",
        "    search_kwargs={\"k\":1},\n",
        "\n",
        ")\n",
        "retriever.invoke(\"Stealing from the bank is a crime\", filter={\"source\":\"news\"})"
      ],
      "metadata": {
        "colab": {
          "base_uri": "https://localhost:8080/"
        },
        "id": "zq-GjkKw4SIn",
        "outputId": "b91cae2a-8d24-49d4-df75-4b3cdcd279bb"
      },
      "execution_count": null,
      "outputs": [
        {
          "output_type": "execute_result",
          "data": {
            "text/plain": [
              "[Document(id='47eb9d66685f4f4698612ffd9b7b0d20', metadata={'source': 'news'}, page_content='Robbers broke into the city bank and stole $1 million in cash.')]"
            ]
          },
          "metadata": {},
          "execution_count": 23
        }
      ]
    },
    {
      "cell_type": "code",
      "source": [],
      "metadata": {
        "id": "5S_ziwHD4XJz"
      },
      "execution_count": null,
      "outputs": []
    }
  ]
}