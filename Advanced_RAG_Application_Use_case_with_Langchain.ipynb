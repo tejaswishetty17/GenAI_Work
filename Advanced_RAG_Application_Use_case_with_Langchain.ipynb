{
  "nbformat": 4,
  "nbformat_minor": 0,
  "metadata": {
    "colab": {
      "provenance": [],
      "authorship_tag": "ABX9TyMvXWJxNV6pRx5D/FurbZZf",
      "include_colab_link": true
    },
    "kernelspec": {
      "name": "python3",
      "display_name": "Python 3"
    },
    "language_info": {
      "name": "python"
    }
  },
  "cells": [
    {
      "cell_type": "markdown",
      "metadata": {
        "id": "view-in-github",
        "colab_type": "text"
      },
      "source": [
        "<a href=\"https://colab.research.google.com/github/tejaswishetty17/GenAI_Work/blob/main/Advanced_RAG_Application_Use_case_with_Langchain.ipynb\" target=\"_parent\"><img src=\"https://colab.research.google.com/assets/colab-badge.svg\" alt=\"Open In Colab\"/></a>"
      ]
    },
    {
      "cell_type": "code",
      "execution_count": 1,
      "metadata": {
        "id": "GYtRES0c6PtB",
        "colab": {
          "base_uri": "https://localhost:8080/"
        },
        "outputId": "9e99cce9-1ba3-483c-f1d4-1ae7df6d6417"
      },
      "outputs": [
        {
          "output_type": "stream",
          "name": "stdout",
          "text": [
            "\u001b[?25l     \u001b[90m━━━━━━━━━━━━━━━━━━━━━━━━━━━━━━━━━━━━━━━━\u001b[0m \u001b[32m0.0/67.3 kB\u001b[0m \u001b[31m?\u001b[0m eta \u001b[36m-:--:--\u001b[0m\r\u001b[2K     \u001b[90m━━━━━━━━━━━━━━━━━━━━━━━━━━━━━━━━━━━━━━━━\u001b[0m \u001b[32m67.3/67.3 kB\u001b[0m \u001b[31m2.9 MB/s\u001b[0m eta \u001b[36m0:00:00\u001b[0m\n",
            "\u001b[?25h  Installing build dependencies ... \u001b[?25l\u001b[?25hdone\n",
            "  Getting requirements to build wheel ... \u001b[?25l\u001b[?25hdone\n",
            "  Preparing metadata (pyproject.toml) ... \u001b[?25l\u001b[?25hdone\n",
            "\u001b[2K   \u001b[90m━━━━━━━━━━━━━━━━━━━━━━━━━━━━━━━━━━━━━━━━\u001b[0m \u001b[32m62.8/62.8 kB\u001b[0m \u001b[31m6.2 MB/s\u001b[0m eta \u001b[36m0:00:00\u001b[0m\n",
            "\u001b[2K   \u001b[90m━━━━━━━━━━━━━━━━━━━━━━━━━━━━━━━━━━━━━━━━\u001b[0m \u001b[32m2.5/2.5 MB\u001b[0m \u001b[31m29.2 MB/s\u001b[0m eta \u001b[36m0:00:00\u001b[0m\n",
            "\u001b[2K   \u001b[90m━━━━━━━━━━━━━━━━━━━━━━━━━━━━━━━━━━━━━━━━\u001b[0m \u001b[32m18.9/18.9 MB\u001b[0m \u001b[31m38.4 MB/s\u001b[0m eta \u001b[36m0:00:00\u001b[0m\n",
            "\u001b[2K   \u001b[90m━━━━━━━━━━━━━━━━━━━━━━━━━━━━━━━━━━━━━━━━\u001b[0m \u001b[32m94.9/94.9 kB\u001b[0m \u001b[31m8.6 MB/s\u001b[0m eta \u001b[36m0:00:00\u001b[0m\n",
            "\u001b[2K   \u001b[90m━━━━━━━━━━━━━━━━━━━━━━━━━━━━━━━━━━━━━━━━\u001b[0m \u001b[32m284.2/284.2 kB\u001b[0m \u001b[31m22.8 MB/s\u001b[0m eta \u001b[36m0:00:00\u001b[0m\n",
            "\u001b[2K   \u001b[90m━━━━━━━━━━━━━━━━━━━━━━━━━━━━━━━━━━━━━━━━\u001b[0m \u001b[32m2.0/2.0 MB\u001b[0m \u001b[31m42.0 MB/s\u001b[0m eta \u001b[36m0:00:00\u001b[0m\n",
            "\u001b[2K   \u001b[90m━━━━━━━━━━━━━━━━━━━━━━━━━━━━━━━━━━━━━━━━\u001b[0m \u001b[32m437.7/437.7 kB\u001b[0m \u001b[31m28.0 MB/s\u001b[0m eta \u001b[36m0:00:00\u001b[0m\n",
            "\u001b[2K   \u001b[90m━━━━━━━━━━━━━━━━━━━━━━━━━━━━━━━━━━━━━━━━\u001b[0m \u001b[32m101.6/101.6 kB\u001b[0m \u001b[31m10.3 MB/s\u001b[0m eta \u001b[36m0:00:00\u001b[0m\n",
            "\u001b[2K   \u001b[90m━━━━━━━━━━━━━━━━━━━━━━━━━━━━━━━━━━━━━━━━\u001b[0m \u001b[32m16.4/16.4 MB\u001b[0m \u001b[31m46.5 MB/s\u001b[0m eta \u001b[36m0:00:00\u001b[0m\n",
            "\u001b[2K   \u001b[90m━━━━━━━━━━━━━━━━━━━━━━━━━━━━━━━━━━━━━━━━\u001b[0m \u001b[32m55.9/55.9 kB\u001b[0m \u001b[31m5.3 MB/s\u001b[0m eta \u001b[36m0:00:00\u001b[0m\n",
            "\u001b[2K   \u001b[90m━━━━━━━━━━━━━━━━━━━━━━━━━━━━━━━━━━━━━━━━\u001b[0m \u001b[32m194.9/194.9 kB\u001b[0m \u001b[31m17.4 MB/s\u001b[0m eta \u001b[36m0:00:00\u001b[0m\n",
            "\u001b[2K   \u001b[90m━━━━━━━━━━━━━━━━━━━━━━━━━━━━━━━━━━━━━━━━\u001b[0m \u001b[32m65.8/65.8 kB\u001b[0m \u001b[31m6.4 MB/s\u001b[0m eta \u001b[36m0:00:00\u001b[0m\n",
            "\u001b[2K   \u001b[90m━━━━━━━━━━━━━━━━━━━━━━━━━━━━━━━━━━━━━━━━\u001b[0m \u001b[32m118.9/118.9 kB\u001b[0m \u001b[31m10.5 MB/s\u001b[0m eta \u001b[36m0:00:00\u001b[0m\n",
            "\u001b[2K   \u001b[90m━━━━━━━━━━━━━━━━━━━━━━━━━━━━━━━━━━━━━━━━\u001b[0m \u001b[32m92.0/92.0 kB\u001b[0m \u001b[31m7.5 MB/s\u001b[0m eta \u001b[36m0:00:00\u001b[0m\n",
            "\u001b[2K   \u001b[90m━━━━━━━━━━━━━━━━━━━━━━━━━━━━━━━━━━━━━━━━\u001b[0m \u001b[32m44.4/44.4 kB\u001b[0m \u001b[31m2.7 MB/s\u001b[0m eta \u001b[36m0:00:00\u001b[0m\n",
            "\u001b[2K   \u001b[90m━━━━━━━━━━━━━━━━━━━━━━━━━━━━━━━━━━━━━━━━\u001b[0m \u001b[32m1.2/1.2 MB\u001b[0m \u001b[31m41.5 MB/s\u001b[0m eta \u001b[36m0:00:00\u001b[0m\n",
            "\u001b[2K   \u001b[90m━━━━━━━━━━━━━━━━━━━━━━━━━━━━━━━━━━━━━━━━\u001b[0m \u001b[32m62.5/62.5 kB\u001b[0m \u001b[31m5.9 MB/s\u001b[0m eta \u001b[36m0:00:00\u001b[0m\n",
            "\u001b[2K   \u001b[90m━━━━━━━━━━━━━━━━━━━━━━━━━━━━━━━━━━━━━━━━\u001b[0m \u001b[32m459.8/459.8 kB\u001b[0m \u001b[31m27.2 MB/s\u001b[0m eta \u001b[36m0:00:00\u001b[0m\n",
            "\u001b[2K   \u001b[90m━━━━━━━━━━━━━━━━━━━━━━━━━━━━━━━━━━━━━━━━\u001b[0m \u001b[32m50.9/50.9 kB\u001b[0m \u001b[31m5.2 MB/s\u001b[0m eta \u001b[36m0:00:00\u001b[0m\n",
            "\u001b[2K   \u001b[90m━━━━━━━━━━━━━━━━━━━━━━━━━━━━━━━━━━━━━━━━\u001b[0m \u001b[32m71.5/71.5 kB\u001b[0m \u001b[31m5.7 MB/s\u001b[0m eta \u001b[36m0:00:00\u001b[0m\n",
            "\u001b[2K   \u001b[90m━━━━━━━━━━━━━━━━━━━━━━━━━━━━━━━━━━━━━━━━\u001b[0m \u001b[32m4.0/4.0 MB\u001b[0m \u001b[31m49.4 MB/s\u001b[0m eta \u001b[36m0:00:00\u001b[0m\n",
            "\u001b[2K   \u001b[90m━━━━━━━━━━━━━━━━━━━━━━━━━━━━━━━━━━━━━━━━\u001b[0m \u001b[32m454.8/454.8 kB\u001b[0m \u001b[31m12.3 MB/s\u001b[0m eta \u001b[36m0:00:00\u001b[0m\n",
            "\u001b[2K   \u001b[90m━━━━━━━━━━━━━━━━━━━━━━━━━━━━━━━━━━━━━━━━\u001b[0m \u001b[32m46.0/46.0 kB\u001b[0m \u001b[31m325.9 kB/s\u001b[0m eta \u001b[36m0:00:00\u001b[0m\n",
            "\u001b[2K   \u001b[90m━━━━━━━━━━━━━━━━━━━━━━━━━━━━━━━━━━━━━━━━\u001b[0m \u001b[32m86.8/86.8 kB\u001b[0m \u001b[31m8.4 MB/s\u001b[0m eta \u001b[36m0:00:00\u001b[0m\n",
            "\u001b[?25h  Building wheel for pypika (pyproject.toml) ... \u001b[?25l\u001b[?25hdone\n"
          ]
        }
      ],
      "source": [
        "!pip install -q langchain langchain-openai langchain-community chromadb"
      ]
    },
    {
      "cell_type": "code",
      "source": [
        "import os\n",
        "os.environ[\"OPENAI_API_KEY\"] = \"<OPENAI_API_KEY>\""
      ],
      "metadata": {
        "id": "mz2RHf116irG"
      },
      "execution_count": 2,
      "outputs": []
    },
    {
      "cell_type": "code",
      "source": [
        "from langchain_community.document_loaders import TextLoader\n",
        "from langchain.text_splitter import RecursiveCharacterTextSplitter\n",
        "from langchain_openai import OpenAIEmbeddings, ChatOpenAI\n",
        "from langchain_community.vectorstores import Chroma\n",
        "from langchain_core.prompts import ChatPromptTemplate\n",
        "from langchain_core.runnables import RunnablePassthrough, RunnableLambda\n",
        "from langchain_core.output_parsers import StrOutputParser"
      ],
      "metadata": {
        "id": "OtMsbia06kSe"
      },
      "execution_count": 3,
      "outputs": []
    },
    {
      "cell_type": "markdown",
      "source": [
        "#Load the text file, split it into chunks in a logical way. embed it and then store the embeddings in vector db.\n",
        "load -> split -> embed -> store in vector db."
      ],
      "metadata": {
        "id": "vt_o4WUc8AZF"
      }
    },
    {
      "cell_type": "code",
      "source": [
        "loader = TextLoader(\"/content/sample_data/langchain_doc.txt\")\n",
        "raw_docs = loader.load()"
      ],
      "metadata": {
        "id": "mfdbDkWB7N3Y"
      },
      "execution_count": 4,
      "outputs": []
    },
    {
      "cell_type": "code",
      "source": [
        "splitter = RecursiveCharacterTextSplitter(chunk_size = 1000, chunk_overlap = 50, separators=[\"\\n\\n\", \"\\n\", \" \", \"\"])\n",
        "docs = splitter.split_documents(raw_docs)"
      ],
      "metadata": {
        "id": "Auh7dpQy8tDj"
      },
      "execution_count": 5,
      "outputs": []
    },
    {
      "cell_type": "code",
      "source": [
        "for i, chunk in enumerate(docs):\n",
        "  print(f\"\\n-- Chunk {i+1}--\")\n",
        "  print(chunk.page_content)"
      ],
      "metadata": {
        "id": "439h27Sp908m",
        "colab": {
          "base_uri": "https://localhost:8080/"
        },
        "outputId": "677c4e33-15eb-4332-8f96-afdf12e558b3"
      },
      "execution_count": 6,
      "outputs": [
        {
          "output_type": "stream",
          "name": "stdout",
          "text": [
            "\n",
            "-- Chunk 1--\n",
            "LangChain Introduction and Core Philosophy:\n",
            "LangChain offers features and tools that make it easier to work with this concept. In particular, the use of modular abstractions, prebuilt utilities, and community-backed best practices ensures that developers can implement solutions around langchain introduction and core philosophy efficiently. Whether integrating third-party APIs, working with documents, or building agents, LangChain provides end-to-end support for langchain introduction and core philosophy.\n",
            "\n",
            "-- Chunk 2--\n",
            "How LangChain Integrates with Large Language Models:\n",
            "LangChain offers features and tools that make it easier to work with this concept. In particular, the use of modular abstractions, prebuilt utilities, and community-backed best practices ensures that developers can implement solutions around how langchain integrates with large language models efficiently. Whether integrating third-party APIs, working with documents, or building agents, LangChain provides end-to-end support for how langchain integrates with large language models.\n",
            "\n",
            "-- Chunk 3--\n",
            "Retrieval-Augmented Generation (RAG) Workflows Explained:\n",
            "LangChain offers features and tools that make it easier to work with this concept. In particular, the use of modular abstractions, prebuilt utilities, and community-backed best practices ensures that developers can implement solutions around retrieval-augmented generation (rag) workflows explained efficiently. Whether integrating third-party APIs, working with documents, or building agents, LangChain provides end-to-end support for retrieval-augmented generation (rag) workflows explained.\n",
            "\n",
            "-- Chunk 4--\n",
            "Document Loading and Supported File Formats:\n",
            "LangChain offers features and tools that make it easier to work with this concept. In particular, the use of modular abstractions, prebuilt utilities, and community-backed best practices ensures that developers can implement solutions around document loading and supported file formats efficiently. Whether integrating third-party APIs, working with documents, or building agents, LangChain provides end-to-end support for document loading and supported file formats.\n",
            "\n",
            "-- Chunk 5--\n",
            "Text Chunking and RecursiveCharacterTextSplitter:\n",
            "LangChain offers features and tools that make it easier to work with this concept. In particular, the use of modular abstractions, prebuilt utilities, and community-backed best practices ensures that developers can implement solutions around text chunking and recursivecharactertextsplitter efficiently. Whether integrating third-party APIs, working with documents, or building agents, LangChain provides end-to-end support for text chunking and recursivecharactertextsplitter.\n",
            "\n",
            "-- Chunk 6--\n",
            "Embedding Models: OpenAI, HuggingFace, and Cohere:\n",
            "LangChain offers features and tools that make it easier to work with this concept. In particular, the use of modular abstractions, prebuilt utilities, and community-backed best practices ensures that developers can implement solutions around embedding models: openai, huggingface, and cohere efficiently. Whether integrating third-party APIs, working with documents, or building agents, LangChain provides end-to-end support for embedding models: openai, huggingface, and cohere.\n",
            "\n",
            "-- Chunk 7--\n",
            "Vector Stores: FAISS, Chroma, Pinecone, and Weaviate:\n",
            "LangChain offers features and tools that make it easier to work with this concept. In particular, the use of modular abstractions, prebuilt utilities, and community-backed best practices ensures that developers can implement solutions around vector stores: faiss, chroma, pinecone, and weaviate efficiently. Whether integrating third-party APIs, working with documents, or building agents, LangChain provides end-to-end support for vector stores: faiss, chroma, pinecone, and weaviate.\n",
            "\n",
            "-- Chunk 8--\n",
            "Creating and Using Retrievers:\n",
            "LangChain offers features and tools that make it easier to work with this concept. In particular, the use of modular abstractions, prebuilt utilities, and community-backed best practices ensures that developers can implement solutions around creating and using retrievers efficiently. Whether integrating third-party APIs, working with documents, or building agents, LangChain provides end-to-end support for creating and using retrievers.\n",
            "\n",
            "Prompt Engineering with LangChain:\n",
            "LangChain offers features and tools that make it easier to work with this concept. In particular, the use of modular abstractions, prebuilt utilities, and community-backed best practices ensures that developers can implement solutions around prompt engineering with langchain efficiently. Whether integrating third-party APIs, working with documents, or building agents, LangChain provides end-to-end support for prompt engineering with langchain.\n",
            "\n",
            "-- Chunk 9--\n",
            "Combining Components using LangChain Expression Language (LCEL):\n",
            "LangChain offers features and tools that make it easier to work with this concept. In particular, the use of modular abstractions, prebuilt utilities, and community-backed best practices ensures that developers can implement solutions around combining components using langchain expression language (lcel) efficiently. Whether integrating third-party APIs, working with documents, or building agents, LangChain provides end-to-end support for combining components using langchain expression language (lcel).\n",
            "\n",
            "-- Chunk 10--\n",
            "Agents and Tools in LangChain:\n",
            "LangChain offers features and tools that make it easier to work with this concept. In particular, the use of modular abstractions, prebuilt utilities, and community-backed best practices ensures that developers can implement solutions around agents and tools in langchain efficiently. Whether integrating third-party APIs, working with documents, or building agents, LangChain provides end-to-end support for agents and tools in langchain.\n",
            "\n",
            "LangChain Memory for Stateful Conversations:\n",
            "LangChain offers features and tools that make it easier to work with this concept. In particular, the use of modular abstractions, prebuilt utilities, and community-backed best practices ensures that developers can implement solutions around langchain memory for stateful conversations efficiently. Whether integrating third-party APIs, working with documents, or building agents, LangChain provides end-to-end support for langchain memory for stateful conversations.\n",
            "\n",
            "-- Chunk 11--\n",
            "Streaming and Callback Support:\n",
            "LangChain offers features and tools that make it easier to work with this concept. In particular, the use of modular abstractions, prebuilt utilities, and community-backed best practices ensures that developers can implement solutions around streaming and callback support efficiently. Whether integrating third-party APIs, working with documents, or building agents, LangChain provides end-to-end support for streaming and callback support.\n",
            "\n",
            "-- Chunk 12--\n",
            "Integration with OpenAI and Other LLM Providers:\n",
            "LangChain offers features and tools that make it easier to work with this concept. In particular, the use of modular abstractions, prebuilt utilities, and community-backed best practices ensures that developers can implement solutions around integration with openai and other llm providers efficiently. Whether integrating third-party APIs, working with documents, or building agents, LangChain provides end-to-end support for integration with openai and other llm providers.\n",
            "\n",
            "LangChain Evaluation Modules:\n",
            "LangChain offers features and tools that make it easier to work with this concept. In particular, the use of modular abstractions, prebuilt utilities, and community-backed best practices ensures that developers can implement solutions around langchain evaluation modules efficiently. Whether integrating third-party APIs, working with documents, or building agents, LangChain provides end-to-end support for langchain evaluation modules.\n",
            "\n",
            "-- Chunk 13--\n",
            "Deploying LangChain Apps on the Cloud:\n",
            "LangChain offers features and tools that make it easier to work with this concept. In particular, the use of modular abstractions, prebuilt utilities, and community-backed best practices ensures that developers can implement solutions around deploying langchain apps on the cloud efficiently. Whether integrating third-party APIs, working with documents, or building agents, LangChain provides end-to-end support for deploying langchain apps on the cloud.\n",
            "\n",
            "Building Chatbots with LangChain:\n",
            "LangChain offers features and tools that make it easier to work with this concept. In particular, the use of modular abstractions, prebuilt utilities, and community-backed best practices ensures that developers can implement solutions around building chatbots with langchain efficiently. Whether integrating third-party APIs, working with documents, or building agents, LangChain provides end-to-end support for building chatbots with langchain.\n",
            "\n",
            "-- Chunk 14--\n",
            "Using LangChain with PDFs and Markdown:\n",
            "LangChain offers features and tools that make it easier to work with this concept. In particular, the use of modular abstractions, prebuilt utilities, and community-backed best practices ensures that developers can implement solutions around using langchain with pdfs and markdown efficiently. Whether integrating third-party APIs, working with documents, or building agents, LangChain provides end-to-end support for using langchain with pdfs and markdown.\n",
            "\n",
            "-- Chunk 15--\n",
            "Creating APIs with LangChain and FastAPI:\n",
            "LangChain offers features and tools that make it easier to work with this concept. In particular, the use of modular abstractions, prebuilt utilities, and community-backed best practices ensures that developers can implement solutions around creating apis with langchain and fastapi efficiently. Whether integrating third-party APIs, working with documents, or building agents, LangChain provides end-to-end support for creating apis with langchain and fastapi.\n",
            "\n",
            "-- Chunk 16--\n",
            "Multi-modal Applications using LangChain:\n",
            "LangChain offers features and tools that make it easier to work with this concept. In particular, the use of modular abstractions, prebuilt utilities, and community-backed best practices ensures that developers can implement solutions around multi-modal applications using langchain efficiently. Whether integrating third-party APIs, working with documents, or building agents, LangChain provides end-to-end support for multi-modal applications using langchain.\n",
            "\n",
            "-- Chunk 17--\n",
            "LangChain for Data Extraction and Transformation:\n",
            "LangChain offers features and tools that make it easier to work with this concept. In particular, the use of modular abstractions, prebuilt utilities, and community-backed best practices ensures that developers can implement solutions around langchain for data extraction and transformation efficiently. Whether integrating third-party APIs, working with documents, or building agents, LangChain provides end-to-end support for langchain for data extraction and transformation.\n",
            "\n",
            "-- Chunk 18--\n",
            "Advanced Use Cases: Coding Assistants and Research Bots:\n",
            "LangChain offers features and tools that make it easier to work with this concept. In particular, the use of modular abstractions, prebuilt utilities, and community-backed best practices ensures that developers can implement solutions around advanced use cases: coding assistants and research bots efficiently. Whether integrating third-party APIs, working with documents, or building agents, LangChain provides end-to-end support for advanced use cases: coding assistants and research bots.\n",
            "\n",
            "-- Chunk 19--\n",
            "Handling Long Documents in LangChain:\n",
            "LangChain offers features and tools that make it easier to work with this concept. In particular, the use of modular abstractions, prebuilt utilities, and community-backed best practices ensures that developers can implement solutions around handling long documents in langchain efficiently. Whether integrating third-party APIs, working with documents, or building agents, LangChain provides end-to-end support for handling long documents in langchain.\n",
            "\n",
            "Caching and Performance Optimization:\n",
            "LangChain offers features and tools that make it easier to work with this concept. In particular, the use of modular abstractions, prebuilt utilities, and community-backed best practices ensures that developers can implement solutions around caching and performance optimization efficiently. Whether integrating third-party APIs, working with documents, or building agents, LangChain provides end-to-end support for caching and performance optimization.\n",
            "\n",
            "-- Chunk 20--\n",
            "Security and Access Control in LangChain Apps:\n",
            "LangChain offers features and tools that make it easier to work with this concept. In particular, the use of modular abstractions, prebuilt utilities, and community-backed best practices ensures that developers can implement solutions around security and access control in langchain apps efficiently. Whether integrating third-party APIs, working with documents, or building agents, LangChain provides end-to-end support for security and access control in langchain apps.\n",
            "\n",
            "LangSmith and Observability:\n",
            "LangChain offers features and tools that make it easier to work with this concept. In particular, the use of modular abstractions, prebuilt utilities, and community-backed best practices ensures that developers can implement solutions around langsmith and observability efficiently. Whether integrating third-party APIs, working with documents, or building agents, LangChain provides end-to-end support for langsmith and observability.\n"
          ]
        }
      ]
    },
    {
      "cell_type": "code",
      "source": [
        "embedding_model = OpenAIEmbeddings(model = \"text-embedding-3-small\")\n",
        "vectorstore = Chroma.from_documents(docs, embedding_model, persist_directory=\"./chromadb_1\")\n",
        "retriever = vectorstore.as_retriever()"
      ],
      "metadata": {
        "id": "8myYMx4A_gd5"
      },
      "execution_count": 7,
      "outputs": []
    },
    {
      "cell_type": "code",
      "source": [
        "docs = retriever.invoke(\"Which vector stores are supported with Langchain?\")"
      ],
      "metadata": {
        "id": "Rp-oeFxUANTh"
      },
      "execution_count": 8,
      "outputs": []
    },
    {
      "cell_type": "code",
      "source": [
        "def join_chunks(docs):\n",
        "  return \"\\n\\n\".join(doc.page_content for doc in docs)"
      ],
      "metadata": {
        "id": "FS7tDqg2B6Tx"
      },
      "execution_count": 9,
      "outputs": []
    },
    {
      "cell_type": "code",
      "source": [
        "print(join_chunks(docs))"
      ],
      "metadata": {
        "colab": {
          "base_uri": "https://localhost:8080/"
        },
        "id": "WG_Keh7GCPJU",
        "outputId": "92aedf26-ce34-4b56-edcd-de8ed34b1478"
      },
      "execution_count": 10,
      "outputs": [
        {
          "output_type": "stream",
          "name": "stdout",
          "text": [
            "Vector Stores: FAISS, Chroma, Pinecone, and Weaviate:\n",
            "LangChain offers features and tools that make it easier to work with this concept. In particular, the use of modular abstractions, prebuilt utilities, and community-backed best practices ensures that developers can implement solutions around vector stores: faiss, chroma, pinecone, and weaviate efficiently. Whether integrating third-party APIs, working with documents, or building agents, LangChain provides end-to-end support for vector stores: faiss, chroma, pinecone, and weaviate.\n",
            "\n",
            "Document Loading and Supported File Formats:\n",
            "LangChain offers features and tools that make it easier to work with this concept. In particular, the use of modular abstractions, prebuilt utilities, and community-backed best practices ensures that developers can implement solutions around document loading and supported file formats efficiently. Whether integrating third-party APIs, working with documents, or building agents, LangChain provides end-to-end support for document loading and supported file formats.\n",
            "\n",
            "LangChain for Data Extraction and Transformation:\n",
            "LangChain offers features and tools that make it easier to work with this concept. In particular, the use of modular abstractions, prebuilt utilities, and community-backed best practices ensures that developers can implement solutions around langchain for data extraction and transformation efficiently. Whether integrating third-party APIs, working with documents, or building agents, LangChain provides end-to-end support for langchain for data extraction and transformation.\n",
            "\n",
            "LangChain Introduction and Core Philosophy:\n",
            "LangChain offers features and tools that make it easier to work with this concept. In particular, the use of modular abstractions, prebuilt utilities, and community-backed best practices ensures that developers can implement solutions around langchain introduction and core philosophy efficiently. Whether integrating third-party APIs, working with documents, or building agents, LangChain provides end-to-end support for langchain introduction and core philosophy.\n"
          ]
        }
      ]
    },
    {
      "cell_type": "code",
      "source": [
        "llm = ChatOpenAI(model = \"gpt-4o-mini\", temperature=0)\n",
        "prompt = ChatPromptTemplate.from_template(\"\"\"\n",
        "You are a helpful assistant. Answer the question using only the following context:\n",
        "{context}\n",
        "\n",
        "Question:{question}\n",
        "\"\"\")"
      ],
      "metadata": {
        "id": "W37D6hxZCbxJ"
      },
      "execution_count": 11,
      "outputs": []
    },
    {
      "cell_type": "code",
      "source": [
        "rag_chain = {\n",
        "    \"context\":retriever | join_chunks,\n",
        "    \"question\": RunnablePassthrough()\n",
        "} | prompt | llm | StrOutputParser()"
      ],
      "metadata": {
        "id": "rzo8u8jsC5am"
      },
      "execution_count": 12,
      "outputs": []
    },
    {
      "cell_type": "code",
      "source": [
        "query = \"What features Langchain offers for prompt engineering?\"\n",
        "response = rag_chain.invoke(query)\n",
        "print(\"query:\", query)\n",
        "print(\"Answer:\", response)"
      ],
      "metadata": {
        "colab": {
          "base_uri": "https://localhost:8080/"
        },
        "id": "5HT_Bi2cEYgf",
        "outputId": "43f71076-a91c-4b1a-bf05-38d132066425"
      },
      "execution_count": 13,
      "outputs": [
        {
          "output_type": "stream",
          "name": "stdout",
          "text": [
            "query: What features Langchain offers for prompt engineering?\n",
            "Answer: LangChain offers features and tools that make it easier to work with prompt engineering. In particular, it utilizes modular abstractions, prebuilt utilities, and community-backed best practices to ensure that developers can implement solutions around prompt engineering efficiently. LangChain provides end-to-end support for integrating third-party APIs, working with documents, or building agents in the context of prompt engineering.\n"
          ]
        }
      ]
    },
    {
      "cell_type": "markdown",
      "source": [
        "pass data as dictionary(to pass multiple context)"
      ],
      "metadata": {
        "id": "jLFBsAhIHHZD"
      }
    },
    {
      "cell_type": "code",
      "source": [
        "from operator import itemgetter\n",
        "rag_chain = {\n",
        "    \"context\":itemgetter(\"question\") | retriever | join_chunks,\n",
        "    \"question\": itemgetter(\"question\")\n",
        "} | prompt | llm | StrOutputParser()"
      ],
      "metadata": {
        "id": "PW26pz0pGnny"
      },
      "execution_count": 14,
      "outputs": []
    },
    {
      "cell_type": "code",
      "source": [
        "query = \"What features Langchain offers for prompt engineering?\"\n",
        "response = rag_chain.invoke({\"question\":query})\n",
        "print(\"query:\", query)\n",
        "print(\"Answer:\", response)"
      ],
      "metadata": {
        "colab": {
          "base_uri": "https://localhost:8080/"
        },
        "id": "06lYjM7MGLuD",
        "outputId": "b51ae40d-1e7d-4597-ff6f-f200abcf59a4"
      },
      "execution_count": 15,
      "outputs": [
        {
          "output_type": "stream",
          "name": "stdout",
          "text": [
            "query: What features Langchain offers for prompt engineering?\n",
            "Answer: LangChain offers features and tools that make it easier to work with prompt engineering. In particular, it utilizes modular abstractions, prebuilt utilities, and community-backed best practices to ensure that developers can implement solutions around prompt engineering efficiently. LangChain provides end-to-end support for integrating third-party APIs, working with documents, or building agents in the context of prompt engineering.\n"
          ]
        }
      ]
    }
  ]
}